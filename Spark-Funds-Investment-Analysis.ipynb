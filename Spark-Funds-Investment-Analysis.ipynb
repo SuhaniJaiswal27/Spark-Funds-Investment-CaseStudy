{
 "cells": [
  {
   "cell_type": "markdown",
   "metadata": {},
   "source": [
    "### Project Brief\n",
    "\n",
    "Spark Funds wants to make investments in a few companies. The CEO of Spark Funds wants to understand the global trends in investments so that she can take the investment decisions effectively."
   ]
  },
  {
   "cell_type": "markdown",
   "metadata": {},
   "source": [
    "#### Spark Funds has two minor constraints for investments:\n",
    "\n",
    "- It wants to invest between 5 to 15 million USD per round of investment\n",
    "\n",
    "- It wants to invest only in English-speaking countries because of the ease of communication with the companies it would invest in\n"
   ]
  },
  {
   "cell_type": "code",
   "execution_count": 1,
   "metadata": {},
   "outputs": [
    {
     "data": {
      "text/plain": [
       "'C:\\\\Users\\\\pc'"
      ]
     },
     "execution_count": 1,
     "metadata": {},
     "output_type": "execute_result"
    }
   ],
   "source": [
    "# Note that all source file to be placed under the data folder in present directory.\n",
    "import os\n",
    "os.getcwd()"
   ]
  },
  {
   "cell_type": "code",
   "execution_count": 2,
   "metadata": {},
   "outputs": [],
   "source": [
    "import pandas as pd\n",
    "import numpy as np\n",
    "import seaborn as sns\n",
    "#importing the matplot lib\n",
    "import matplotlib.pyplot as plt\n",
    "%matplotlib inline"
   ]
  },
  {
   "cell_type": "code",
   "execution_count": 3,
   "metadata": {},
   "outputs": [],
   "source": [
    "rounds2 = pd.read_csv(\"rounds2.csv\",encoding='iso-8859-1')\n",
    "companies=pd.read_csv(\"companies.csv\",encoding='iso-8859-1')\n"
   ]
  },
  {
   "cell_type": "markdown",
   "metadata": {},
   "source": [
    "Lets explore the data"
   ]
  },
  {
   "cell_type": "code",
   "execution_count": 4,
   "metadata": {},
   "outputs": [
    {
     "data": {
      "text/html": [
       "<div>\n",
       "<style scoped>\n",
       "    .dataframe tbody tr th:only-of-type {\n",
       "        vertical-align: middle;\n",
       "    }\n",
       "\n",
       "    .dataframe tbody tr th {\n",
       "        vertical-align: top;\n",
       "    }\n",
       "\n",
       "    .dataframe thead th {\n",
       "        text-align: right;\n",
       "    }\n",
       "</style>\n",
       "<table border=\"1\" class=\"dataframe\">\n",
       "  <thead>\n",
       "    <tr style=\"text-align: right;\">\n",
       "      <th></th>\n",
       "      <th>permalink</th>\n",
       "      <th>name</th>\n",
       "      <th>homepage_url</th>\n",
       "      <th>category_list</th>\n",
       "      <th>status</th>\n",
       "      <th>country_code</th>\n",
       "      <th>state_code</th>\n",
       "      <th>region</th>\n",
       "      <th>city</th>\n",
       "      <th>founded_at</th>\n",
       "    </tr>\n",
       "  </thead>\n",
       "  <tbody>\n",
       "    <tr>\n",
       "      <th>0</th>\n",
       "      <td>/Organization/-Fame</td>\n",
       "      <td>#fame</td>\n",
       "      <td>http://livfame.com</td>\n",
       "      <td>Media</td>\n",
       "      <td>operating</td>\n",
       "      <td>IND</td>\n",
       "      <td>16</td>\n",
       "      <td>Mumbai</td>\n",
       "      <td>Mumbai</td>\n",
       "      <td>NaN</td>\n",
       "    </tr>\n",
       "    <tr>\n",
       "      <th>1</th>\n",
       "      <td>/Organization/-Qounter</td>\n",
       "      <td>:Qounter</td>\n",
       "      <td>http://www.qounter.com</td>\n",
       "      <td>Application Platforms|Real Time|Social Network...</td>\n",
       "      <td>operating</td>\n",
       "      <td>USA</td>\n",
       "      <td>DE</td>\n",
       "      <td>DE - Other</td>\n",
       "      <td>Delaware City</td>\n",
       "      <td>04-09-2014</td>\n",
       "    </tr>\n",
       "    <tr>\n",
       "      <th>2</th>\n",
       "      <td>/Organization/-The-One-Of-Them-Inc-</td>\n",
       "      <td>(THE) ONE of THEM,Inc.</td>\n",
       "      <td>http://oneofthem.jp</td>\n",
       "      <td>Apps|Games|Mobile</td>\n",
       "      <td>operating</td>\n",
       "      <td>NaN</td>\n",
       "      <td>NaN</td>\n",
       "      <td>NaN</td>\n",
       "      <td>NaN</td>\n",
       "      <td>NaN</td>\n",
       "    </tr>\n",
       "    <tr>\n",
       "      <th>3</th>\n",
       "      <td>/Organization/0-6-Com</td>\n",
       "      <td>0-6.com</td>\n",
       "      <td>http://www.0-6.com</td>\n",
       "      <td>Curated Web</td>\n",
       "      <td>operating</td>\n",
       "      <td>CHN</td>\n",
       "      <td>22</td>\n",
       "      <td>Beijing</td>\n",
       "      <td>Beijing</td>\n",
       "      <td>01-01-2007</td>\n",
       "    </tr>\n",
       "    <tr>\n",
       "      <th>4</th>\n",
       "      <td>/Organization/004-Technologies</td>\n",
       "      <td>004 Technologies</td>\n",
       "      <td>http://004gmbh.de/en/004-interact</td>\n",
       "      <td>Software</td>\n",
       "      <td>operating</td>\n",
       "      <td>USA</td>\n",
       "      <td>IL</td>\n",
       "      <td>Springfield, Illinois</td>\n",
       "      <td>Champaign</td>\n",
       "      <td>01-01-2010</td>\n",
       "    </tr>\n",
       "    <tr>\n",
       "      <th>...</th>\n",
       "      <td>...</td>\n",
       "      <td>...</td>\n",
       "      <td>...</td>\n",
       "      <td>...</td>\n",
       "      <td>...</td>\n",
       "      <td>...</td>\n",
       "      <td>...</td>\n",
       "      <td>...</td>\n",
       "      <td>...</td>\n",
       "      <td>...</td>\n",
       "    </tr>\n",
       "    <tr>\n",
       "      <th>66363</th>\n",
       "      <td>/Organization/Zznode-Science-And-Technology-Co...</td>\n",
       "      <td>ZZNode Science and Technology</td>\n",
       "      <td>http://www.zznode.com</td>\n",
       "      <td>Enterprise Software</td>\n",
       "      <td>operating</td>\n",
       "      <td>CHN</td>\n",
       "      <td>22</td>\n",
       "      <td>Beijing</td>\n",
       "      <td>Beijing</td>\n",
       "      <td>NaN</td>\n",
       "    </tr>\n",
       "    <tr>\n",
       "      <th>66364</th>\n",
       "      <td>/Organization/Zzzzapp-Com</td>\n",
       "      <td>Zzzzapp Wireless ltd.</td>\n",
       "      <td>http://www.zzzzapp.com</td>\n",
       "      <td>Advertising|Mobile|Web Development|Wireless</td>\n",
       "      <td>operating</td>\n",
       "      <td>HRV</td>\n",
       "      <td>15</td>\n",
       "      <td>Split</td>\n",
       "      <td>Split</td>\n",
       "      <td>13-05-2012</td>\n",
       "    </tr>\n",
       "    <tr>\n",
       "      <th>66365</th>\n",
       "      <td>/Organization/ÃEron</td>\n",
       "      <td>ÃERON</td>\n",
       "      <td>http://www.aeron.hu/</td>\n",
       "      <td>NaN</td>\n",
       "      <td>operating</td>\n",
       "      <td>NaN</td>\n",
       "      <td>NaN</td>\n",
       "      <td>NaN</td>\n",
       "      <td>NaN</td>\n",
       "      <td>01-01-2011</td>\n",
       "    </tr>\n",
       "    <tr>\n",
       "      <th>66366</th>\n",
       "      <td>/Organization/ÃAsys-2</td>\n",
       "      <td>Ãasys</td>\n",
       "      <td>http://www.oasys.io/</td>\n",
       "      <td>Consumer Electronics|Internet of Things|Teleco...</td>\n",
       "      <td>operating</td>\n",
       "      <td>USA</td>\n",
       "      <td>CA</td>\n",
       "      <td>SF Bay Area</td>\n",
       "      <td>San Francisco</td>\n",
       "      <td>01-01-2014</td>\n",
       "    </tr>\n",
       "    <tr>\n",
       "      <th>66367</th>\n",
       "      <td>/Organization/Ä°Novatiff-Reklam-Ve-Tanä±Tä±M-H...</td>\n",
       "      <td>Ä°novatiff Reklam ve TanÄ±tÄ±m Hizmetleri Tic</td>\n",
       "      <td>http://inovatiff.com</td>\n",
       "      <td>Consumer Goods|E-Commerce|Internet</td>\n",
       "      <td>operating</td>\n",
       "      <td>NaN</td>\n",
       "      <td>NaN</td>\n",
       "      <td>NaN</td>\n",
       "      <td>NaN</td>\n",
       "      <td>NaN</td>\n",
       "    </tr>\n",
       "  </tbody>\n",
       "</table>\n",
       "<p>66368 rows × 10 columns</p>\n",
       "</div>"
      ],
      "text/plain": [
       "                                               permalink  \\\n",
       "0                                    /Organization/-Fame   \n",
       "1                                 /Organization/-Qounter   \n",
       "2                    /Organization/-The-One-Of-Them-Inc-   \n",
       "3                                  /Organization/0-6-Com   \n",
       "4                         /Organization/004-Technologies   \n",
       "...                                                  ...   \n",
       "66363  /Organization/Zznode-Science-And-Technology-Co...   \n",
       "66364                          /Organization/Zzzzapp-Com   \n",
       "66365                               /Organization/ÃEron   \n",
       "66366                             /Organization/ÃAsys-2   \n",
       "66367  /Organization/Ä°Novatiff-Reklam-Ve-Tanä±Tä±M-H...   \n",
       "\n",
       "                                                name  \\\n",
       "0                                              #fame   \n",
       "1                                           :Qounter   \n",
       "2                             (THE) ONE of THEM,Inc.   \n",
       "3                                            0-6.com   \n",
       "4                                   004 Technologies   \n",
       "...                                              ...   \n",
       "66363                  ZZNode Science and Technology   \n",
       "66364                          Zzzzapp Wireless ltd.   \n",
       "66365                                         ÃERON   \n",
       "66366                                         Ãasys   \n",
       "66367  Ä°novatiff Reklam ve TanÄ±tÄ±m Hizmetleri Tic   \n",
       "\n",
       "                            homepage_url  \\\n",
       "0                     http://livfame.com   \n",
       "1                 http://www.qounter.com   \n",
       "2                    http://oneofthem.jp   \n",
       "3                     http://www.0-6.com   \n",
       "4      http://004gmbh.de/en/004-interact   \n",
       "...                                  ...   \n",
       "66363              http://www.zznode.com   \n",
       "66364             http://www.zzzzapp.com   \n",
       "66365               http://www.aeron.hu/   \n",
       "66366               http://www.oasys.io/   \n",
       "66367               http://inovatiff.com   \n",
       "\n",
       "                                           category_list     status  \\\n",
       "0                                                  Media  operating   \n",
       "1      Application Platforms|Real Time|Social Network...  operating   \n",
       "2                                      Apps|Games|Mobile  operating   \n",
       "3                                            Curated Web  operating   \n",
       "4                                               Software  operating   \n",
       "...                                                  ...        ...   \n",
       "66363                                Enterprise Software  operating   \n",
       "66364        Advertising|Mobile|Web Development|Wireless  operating   \n",
       "66365                                                NaN  operating   \n",
       "66366  Consumer Electronics|Internet of Things|Teleco...  operating   \n",
       "66367                 Consumer Goods|E-Commerce|Internet  operating   \n",
       "\n",
       "      country_code state_code                 region           city  \\\n",
       "0              IND         16                 Mumbai         Mumbai   \n",
       "1              USA         DE             DE - Other  Delaware City   \n",
       "2              NaN        NaN                    NaN            NaN   \n",
       "3              CHN         22                Beijing        Beijing   \n",
       "4              USA         IL  Springfield, Illinois      Champaign   \n",
       "...            ...        ...                    ...            ...   \n",
       "66363          CHN         22                Beijing        Beijing   \n",
       "66364          HRV         15                  Split          Split   \n",
       "66365          NaN        NaN                    NaN            NaN   \n",
       "66366          USA         CA            SF Bay Area  San Francisco   \n",
       "66367          NaN        NaN                    NaN            NaN   \n",
       "\n",
       "       founded_at  \n",
       "0             NaN  \n",
       "1      04-09-2014  \n",
       "2             NaN  \n",
       "3      01-01-2007  \n",
       "4      01-01-2010  \n",
       "...           ...  \n",
       "66363         NaN  \n",
       "66364  13-05-2012  \n",
       "66365  01-01-2011  \n",
       "66366  01-01-2014  \n",
       "66367         NaN  \n",
       "\n",
       "[66368 rows x 10 columns]"
      ]
     },
     "execution_count": 4,
     "metadata": {},
     "output_type": "execute_result"
    }
   ],
   "source": [
    "companies"
   ]
  },
  {
   "cell_type": "code",
   "execution_count": 5,
   "metadata": {},
   "outputs": [
    {
     "name": "stdout",
     "output_type": "stream",
     "text": [
      "<class 'pandas.core.frame.DataFrame'>\n",
      "RangeIndex: 66368 entries, 0 to 66367\n",
      "Data columns (total 10 columns):\n",
      " #   Column         Non-Null Count  Dtype \n",
      "---  ------         --------------  ----- \n",
      " 0   permalink      66368 non-null  object\n",
      " 1   name           66367 non-null  object\n",
      " 2   homepage_url   61310 non-null  object\n",
      " 3   category_list  63220 non-null  object\n",
      " 4   status         66368 non-null  object\n",
      " 5   country_code   59410 non-null  object\n",
      " 6   state_code     57821 non-null  object\n",
      " 7   region         58338 non-null  object\n",
      " 8   city           58340 non-null  object\n",
      " 9   founded_at     51147 non-null  object\n",
      "dtypes: object(10)\n",
      "memory usage: 5.1+ MB\n"
     ]
    }
   ],
   "source": [
    "companies.info()"
   ]
  },
  {
   "cell_type": "code",
   "execution_count": 6,
   "metadata": {},
   "outputs": [
    {
     "data": {
      "text/html": [
       "<div>\n",
       "<style scoped>\n",
       "    .dataframe tbody tr th:only-of-type {\n",
       "        vertical-align: middle;\n",
       "    }\n",
       "\n",
       "    .dataframe tbody tr th {\n",
       "        vertical-align: top;\n",
       "    }\n",
       "\n",
       "    .dataframe thead th {\n",
       "        text-align: right;\n",
       "    }\n",
       "</style>\n",
       "<table border=\"1\" class=\"dataframe\">\n",
       "  <thead>\n",
       "    <tr style=\"text-align: right;\">\n",
       "      <th></th>\n",
       "      <th>permalink</th>\n",
       "      <th>name</th>\n",
       "      <th>homepage_url</th>\n",
       "      <th>category_list</th>\n",
       "      <th>status</th>\n",
       "      <th>country_code</th>\n",
       "      <th>state_code</th>\n",
       "      <th>region</th>\n",
       "      <th>city</th>\n",
       "      <th>founded_at</th>\n",
       "    </tr>\n",
       "  </thead>\n",
       "  <tbody>\n",
       "    <tr>\n",
       "      <th>count</th>\n",
       "      <td>66368</td>\n",
       "      <td>66367</td>\n",
       "      <td>61310</td>\n",
       "      <td>63220</td>\n",
       "      <td>66368</td>\n",
       "      <td>59410</td>\n",
       "      <td>57821</td>\n",
       "      <td>58338</td>\n",
       "      <td>58340</td>\n",
       "      <td>51147</td>\n",
       "    </tr>\n",
       "    <tr>\n",
       "      <th>unique</th>\n",
       "      <td>66368</td>\n",
       "      <td>66099</td>\n",
       "      <td>61191</td>\n",
       "      <td>27296</td>\n",
       "      <td>4</td>\n",
       "      <td>137</td>\n",
       "      <td>311</td>\n",
       "      <td>1092</td>\n",
       "      <td>5111</td>\n",
       "      <td>3978</td>\n",
       "    </tr>\n",
       "    <tr>\n",
       "      <th>top</th>\n",
       "      <td>/Organization/Harbour-Antibodies</td>\n",
       "      <td>#NAME?</td>\n",
       "      <td>http://www.askforoffer.com</td>\n",
       "      <td>Software</td>\n",
       "      <td>operating</td>\n",
       "      <td>USA</td>\n",
       "      <td>CA</td>\n",
       "      <td>SF Bay Area</td>\n",
       "      <td>San Francisco</td>\n",
       "      <td>01-01-2012</td>\n",
       "    </tr>\n",
       "    <tr>\n",
       "      <th>freq</th>\n",
       "      <td>1</td>\n",
       "      <td>4</td>\n",
       "      <td>5</td>\n",
       "      <td>3995</td>\n",
       "      <td>53034</td>\n",
       "      <td>37601</td>\n",
       "      <td>12900</td>\n",
       "      <td>8804</td>\n",
       "      <td>3526</td>\n",
       "      <td>2730</td>\n",
       "    </tr>\n",
       "  </tbody>\n",
       "</table>\n",
       "</div>"
      ],
      "text/plain": [
       "                               permalink    name                homepage_url  \\\n",
       "count                              66368   66367                       61310   \n",
       "unique                             66368   66099                       61191   \n",
       "top     /Organization/Harbour-Antibodies  #NAME?  http://www.askforoffer.com   \n",
       "freq                                   1       4                           5   \n",
       "\n",
       "       category_list     status country_code state_code       region  \\\n",
       "count          63220      66368        59410      57821        58338   \n",
       "unique         27296          4          137        311         1092   \n",
       "top         Software  operating          USA         CA  SF Bay Area   \n",
       "freq            3995      53034        37601      12900         8804   \n",
       "\n",
       "                 city  founded_at  \n",
       "count           58340       51147  \n",
       "unique           5111        3978  \n",
       "top     San Francisco  01-01-2012  \n",
       "freq             3526        2730  "
      ]
     },
     "execution_count": 6,
     "metadata": {},
     "output_type": "execute_result"
    }
   ],
   "source": [
    "companies.describe()"
   ]
  },
  {
   "cell_type": "code",
   "execution_count": 7,
   "metadata": {},
   "outputs": [
    {
     "data": {
      "text/html": [
       "<div>\n",
       "<style scoped>\n",
       "    .dataframe tbody tr th:only-of-type {\n",
       "        vertical-align: middle;\n",
       "    }\n",
       "\n",
       "    .dataframe tbody tr th {\n",
       "        vertical-align: top;\n",
       "    }\n",
       "\n",
       "    .dataframe thead th {\n",
       "        text-align: right;\n",
       "    }\n",
       "</style>\n",
       "<table border=\"1\" class=\"dataframe\">\n",
       "  <thead>\n",
       "    <tr style=\"text-align: right;\">\n",
       "      <th></th>\n",
       "      <th>company_permalink</th>\n",
       "      <th>funding_round_permalink</th>\n",
       "      <th>funding_round_type</th>\n",
       "      <th>funding_round_code</th>\n",
       "      <th>funded_at</th>\n",
       "      <th>raised_amount_usd</th>\n",
       "    </tr>\n",
       "  </thead>\n",
       "  <tbody>\n",
       "    <tr>\n",
       "      <th>0</th>\n",
       "      <td>/organization/-fame</td>\n",
       "      <td>/funding-round/9a01d05418af9f794eebff7ace91f638</td>\n",
       "      <td>venture</td>\n",
       "      <td>B</td>\n",
       "      <td>05-01-2015</td>\n",
       "      <td>10000000.0</td>\n",
       "    </tr>\n",
       "    <tr>\n",
       "      <th>1</th>\n",
       "      <td>/ORGANIZATION/-QOUNTER</td>\n",
       "      <td>/funding-round/22dacff496eb7acb2b901dec1dfe5633</td>\n",
       "      <td>venture</td>\n",
       "      <td>A</td>\n",
       "      <td>14-10-2014</td>\n",
       "      <td>NaN</td>\n",
       "    </tr>\n",
       "    <tr>\n",
       "      <th>2</th>\n",
       "      <td>/organization/-qounter</td>\n",
       "      <td>/funding-round/b44fbb94153f6cdef13083530bb48030</td>\n",
       "      <td>seed</td>\n",
       "      <td>NaN</td>\n",
       "      <td>01-03-2014</td>\n",
       "      <td>700000.0</td>\n",
       "    </tr>\n",
       "    <tr>\n",
       "      <th>3</th>\n",
       "      <td>/ORGANIZATION/-THE-ONE-OF-THEM-INC-</td>\n",
       "      <td>/funding-round/650b8f704416801069bb178a1418776b</td>\n",
       "      <td>venture</td>\n",
       "      <td>B</td>\n",
       "      <td>30-01-2014</td>\n",
       "      <td>3406878.0</td>\n",
       "    </tr>\n",
       "    <tr>\n",
       "      <th>4</th>\n",
       "      <td>/organization/0-6-com</td>\n",
       "      <td>/funding-round/5727accaeaa57461bd22a9bdd945382d</td>\n",
       "      <td>venture</td>\n",
       "      <td>A</td>\n",
       "      <td>19-03-2008</td>\n",
       "      <td>2000000.0</td>\n",
       "    </tr>\n",
       "    <tr>\n",
       "      <th>...</th>\n",
       "      <td>...</td>\n",
       "      <td>...</td>\n",
       "      <td>...</td>\n",
       "      <td>...</td>\n",
       "      <td>...</td>\n",
       "      <td>...</td>\n",
       "    </tr>\n",
       "    <tr>\n",
       "      <th>114944</th>\n",
       "      <td>/organization/zzzzapp-com</td>\n",
       "      <td>/funding-round/8f6d25b8ee4199e586484d817bceda05</td>\n",
       "      <td>convertible_note</td>\n",
       "      <td>NaN</td>\n",
       "      <td>01-03-2014</td>\n",
       "      <td>41313.0</td>\n",
       "    </tr>\n",
       "    <tr>\n",
       "      <th>114945</th>\n",
       "      <td>/ORGANIZATION/ZZZZAPP-COM</td>\n",
       "      <td>/funding-round/ff1aa06ed5da186c84f101549035d4ae</td>\n",
       "      <td>seed</td>\n",
       "      <td>NaN</td>\n",
       "      <td>01-05-2013</td>\n",
       "      <td>32842.0</td>\n",
       "    </tr>\n",
       "    <tr>\n",
       "      <th>114946</th>\n",
       "      <td>/organization/ãeron</td>\n",
       "      <td>/funding-round/59f4dce44723b794f21ded3daed6e4fe</td>\n",
       "      <td>venture</td>\n",
       "      <td>A</td>\n",
       "      <td>01-08-2014</td>\n",
       "      <td>NaN</td>\n",
       "    </tr>\n",
       "    <tr>\n",
       "      <th>114947</th>\n",
       "      <td>/ORGANIZATION/ÃASYS-2</td>\n",
       "      <td>/funding-round/35f09d0794651719b02bbfd859ba9ff5</td>\n",
       "      <td>seed</td>\n",
       "      <td>NaN</td>\n",
       "      <td>01-01-2015</td>\n",
       "      <td>18192.0</td>\n",
       "    </tr>\n",
       "    <tr>\n",
       "      <th>114948</th>\n",
       "      <td>/organization/ä°novatiff-reklam-ve-tanä±tä±m-h...</td>\n",
       "      <td>/funding-round/af942869878d2cd788ef5189b435ebc4</td>\n",
       "      <td>grant</td>\n",
       "      <td>NaN</td>\n",
       "      <td>01-10-2013</td>\n",
       "      <td>14851.0</td>\n",
       "    </tr>\n",
       "  </tbody>\n",
       "</table>\n",
       "<p>114949 rows × 6 columns</p>\n",
       "</div>"
      ],
      "text/plain": [
       "                                        company_permalink  \\\n",
       "0                                     /organization/-fame   \n",
       "1                                  /ORGANIZATION/-QOUNTER   \n",
       "2                                  /organization/-qounter   \n",
       "3                     /ORGANIZATION/-THE-ONE-OF-THEM-INC-   \n",
       "4                                   /organization/0-6-com   \n",
       "...                                                   ...   \n",
       "114944                          /organization/zzzzapp-com   \n",
       "114945                          /ORGANIZATION/ZZZZAPP-COM   \n",
       "114946                               /organization/ãeron   \n",
       "114947                             /ORGANIZATION/ÃASYS-2   \n",
       "114948  /organization/ä°novatiff-reklam-ve-tanä±tä±m-h...   \n",
       "\n",
       "                                funding_round_permalink funding_round_type  \\\n",
       "0       /funding-round/9a01d05418af9f794eebff7ace91f638            venture   \n",
       "1       /funding-round/22dacff496eb7acb2b901dec1dfe5633            venture   \n",
       "2       /funding-round/b44fbb94153f6cdef13083530bb48030               seed   \n",
       "3       /funding-round/650b8f704416801069bb178a1418776b            venture   \n",
       "4       /funding-round/5727accaeaa57461bd22a9bdd945382d            venture   \n",
       "...                                                 ...                ...   \n",
       "114944  /funding-round/8f6d25b8ee4199e586484d817bceda05   convertible_note   \n",
       "114945  /funding-round/ff1aa06ed5da186c84f101549035d4ae               seed   \n",
       "114946  /funding-round/59f4dce44723b794f21ded3daed6e4fe            venture   \n",
       "114947  /funding-round/35f09d0794651719b02bbfd859ba9ff5               seed   \n",
       "114948  /funding-round/af942869878d2cd788ef5189b435ebc4              grant   \n",
       "\n",
       "       funding_round_code   funded_at  raised_amount_usd  \n",
       "0                       B  05-01-2015         10000000.0  \n",
       "1                       A  14-10-2014                NaN  \n",
       "2                     NaN  01-03-2014           700000.0  \n",
       "3                       B  30-01-2014          3406878.0  \n",
       "4                       A  19-03-2008          2000000.0  \n",
       "...                   ...         ...                ...  \n",
       "114944                NaN  01-03-2014            41313.0  \n",
       "114945                NaN  01-05-2013            32842.0  \n",
       "114946                  A  01-08-2014                NaN  \n",
       "114947                NaN  01-01-2015            18192.0  \n",
       "114948                NaN  01-10-2013            14851.0  \n",
       "\n",
       "[114949 rows x 6 columns]"
      ]
     },
     "execution_count": 7,
     "metadata": {},
     "output_type": "execute_result"
    }
   ],
   "source": [
    "rounds2"
   ]
  },
  {
   "cell_type": "code",
   "execution_count": 8,
   "metadata": {},
   "outputs": [
    {
     "name": "stdout",
     "output_type": "stream",
     "text": [
      "<class 'pandas.core.frame.DataFrame'>\n",
      "RangeIndex: 114949 entries, 0 to 114948\n",
      "Data columns (total 6 columns):\n",
      " #   Column                   Non-Null Count   Dtype  \n",
      "---  ------                   --------------   -----  \n",
      " 0   company_permalink        114949 non-null  object \n",
      " 1   funding_round_permalink  114949 non-null  object \n",
      " 2   funding_round_type       114949 non-null  object \n",
      " 3   funding_round_code       31140 non-null   object \n",
      " 4   funded_at                114949 non-null  object \n",
      " 5   raised_amount_usd        94959 non-null   float64\n",
      "dtypes: float64(1), object(5)\n",
      "memory usage: 5.3+ MB\n"
     ]
    }
   ],
   "source": [
    "rounds2.info()"
   ]
  },
  {
   "cell_type": "code",
   "execution_count": 9,
   "metadata": {},
   "outputs": [
    {
     "data": {
      "text/html": [
       "<div>\n",
       "<style scoped>\n",
       "    .dataframe tbody tr th:only-of-type {\n",
       "        vertical-align: middle;\n",
       "    }\n",
       "\n",
       "    .dataframe tbody tr th {\n",
       "        vertical-align: top;\n",
       "    }\n",
       "\n",
       "    .dataframe thead th {\n",
       "        text-align: right;\n",
       "    }\n",
       "</style>\n",
       "<table border=\"1\" class=\"dataframe\">\n",
       "  <thead>\n",
       "    <tr style=\"text-align: right;\">\n",
       "      <th></th>\n",
       "      <th>raised_amount_usd</th>\n",
       "    </tr>\n",
       "  </thead>\n",
       "  <tbody>\n",
       "    <tr>\n",
       "      <th>count</th>\n",
       "      <td>9.495900e+04</td>\n",
       "    </tr>\n",
       "    <tr>\n",
       "      <th>mean</th>\n",
       "      <td>1.042687e+07</td>\n",
       "    </tr>\n",
       "    <tr>\n",
       "      <th>std</th>\n",
       "      <td>1.148212e+08</td>\n",
       "    </tr>\n",
       "    <tr>\n",
       "      <th>min</th>\n",
       "      <td>0.000000e+00</td>\n",
       "    </tr>\n",
       "    <tr>\n",
       "      <th>25%</th>\n",
       "      <td>3.225000e+05</td>\n",
       "    </tr>\n",
       "    <tr>\n",
       "      <th>50%</th>\n",
       "      <td>1.680511e+06</td>\n",
       "    </tr>\n",
       "    <tr>\n",
       "      <th>75%</th>\n",
       "      <td>7.000000e+06</td>\n",
       "    </tr>\n",
       "    <tr>\n",
       "      <th>max</th>\n",
       "      <td>2.127194e+10</td>\n",
       "    </tr>\n",
       "  </tbody>\n",
       "</table>\n",
       "</div>"
      ],
      "text/plain": [
       "       raised_amount_usd\n",
       "count       9.495900e+04\n",
       "mean        1.042687e+07\n",
       "std         1.148212e+08\n",
       "min         0.000000e+00\n",
       "25%         3.225000e+05\n",
       "50%         1.680511e+06\n",
       "75%         7.000000e+06\n",
       "max         2.127194e+10"
      ]
     },
     "execution_count": 9,
     "metadata": {},
     "output_type": "execute_result"
    }
   ],
   "source": [
    "rounds2.describe()"
   ]
  },
  {
   "cell_type": "code",
   "execution_count": 10,
   "metadata": {},
   "outputs": [
    {
     "name": "stdout",
     "output_type": "stream",
     "text": [
      "66100\n"
     ]
    }
   ],
   "source": [
    "# Lets determine the unique company name\n",
    "print(len(companies.name.unique()))"
   ]
  },
  {
   "cell_type": "code",
   "execution_count": 11,
   "metadata": {},
   "outputs": [
    {
     "name": "stdout",
     "output_type": "stream",
     "text": [
      "66368\n"
     ]
    }
   ],
   "source": [
    "print(len(companies.permalink.unique()))"
   ]
  },
  {
   "cell_type": "code",
   "execution_count": 12,
   "metadata": {},
   "outputs": [
    {
     "name": "stdout",
     "output_type": "stream",
     "text": [
      "90247\n"
     ]
    }
   ],
   "source": [
    "print(len(rounds2.company_permalink.unique()))"
   ]
  },
  {
   "cell_type": "code",
   "execution_count": 13,
   "metadata": {},
   "outputs": [],
   "source": [
    "#endocding of data\n",
    "rounds2[\"company_permalink\"]=rounds2[\"company_permalink\"].apply(lambda x:x.encode('utf-8').decode(\"ascii\",\"ignore\"))\n",
    "companies[\"permalink\"]=companies[\"permalink\"].apply(lambda x:x.encode('utf-8').decode(\"ascii\",\"ignore\"))"
   ]
  },
  {
   "cell_type": "code",
   "execution_count": 14,
   "metadata": {},
   "outputs": [
    {
     "data": {
      "text/plain": [
       "66368"
      ]
     },
     "execution_count": 14,
     "metadata": {},
     "output_type": "execute_result"
    }
   ],
   "source": [
    "#Calculating total unique companies present in rounds2\n",
    "rounds2[\"company_permalink\"]=rounds2[\"company_permalink\"].apply(lambda x: x.lower())\n",
    "len(rounds2[\"company_permalink\"].unique())"
   ]
  },
  {
   "cell_type": "code",
   "execution_count": 15,
   "metadata": {},
   "outputs": [
    {
     "data": {
      "text/plain": [
       "66368"
      ]
     },
     "execution_count": 15,
     "metadata": {},
     "output_type": "execute_result"
    }
   ],
   "source": [
    "#Calculating total unique companies present in companies\n",
    "companies[\"permalink\"]=companies[\"permalink\"].apply(lambda x: x.lower())\n",
    "len(companies[\"permalink\"].unique().tolist())"
   ]
  },
  {
   "cell_type": "code",
   "execution_count": 16,
   "metadata": {},
   "outputs": [
    {
     "data": {
      "text/plain": [
       "0"
      ]
     },
     "execution_count": 16,
     "metadata": {},
     "output_type": "execute_result"
    }
   ],
   "source": [
    "#Comparing the company in both the dataframe\n",
    "sum(np.sort(companies[\"permalink\"])!=np.sort(rounds2[\"company_permalink\"].unique()))"
   ]
  },
  {
   "cell_type": "code",
   "execution_count": 17,
   "metadata": {},
   "outputs": [
    {
     "data": {
      "text/plain": [
       "(114949, 16)"
      ]
     },
     "execution_count": 17,
     "metadata": {},
     "output_type": "execute_result"
    }
   ],
   "source": [
    "#Merging the two dataframe comapnies and rounds2\n",
    "master_frame=pd.merge(companies,rounds2,how=\"inner\",left_on=[\"permalink\"],right_on=[\"company_permalink\"])\n",
    "master_frame.shape"
   ]
  },
  {
   "cell_type": "code",
   "execution_count": 18,
   "metadata": {},
   "outputs": [
    {
     "name": "stdout",
     "output_type": "stream",
     "text": [
      "<class 'pandas.core.frame.DataFrame'>\n",
      "Int64Index: 114949 entries, 0 to 114948\n",
      "Data columns (total 16 columns):\n",
      " #   Column                   Non-Null Count   Dtype  \n",
      "---  ------                   --------------   -----  \n",
      " 0   permalink                114949 non-null  object \n",
      " 1   name                     114948 non-null  object \n",
      " 2   homepage_url             108815 non-null  object \n",
      " 3   category_list            111539 non-null  object \n",
      " 4   status                   114949 non-null  object \n",
      " 5   country_code             106271 non-null  object \n",
      " 6   state_code               104003 non-null  object \n",
      " 7   region                   104782 non-null  object \n",
      " 8   city                     104785 non-null  object \n",
      " 9   founded_at               94428 non-null   object \n",
      " 10  company_permalink        114949 non-null  object \n",
      " 11  funding_round_permalink  114949 non-null  object \n",
      " 12  funding_round_type       114949 non-null  object \n",
      " 13  funding_round_code       31140 non-null   object \n",
      " 14  funded_at                114949 non-null  object \n",
      " 15  raised_amount_usd        94959 non-null   float64\n",
      "dtypes: float64(1), object(15)\n",
      "memory usage: 14.9+ MB\n"
     ]
    }
   ],
   "source": [
    "master_frame.info()"
   ]
  },
  {
   "cell_type": "code",
   "execution_count": 19,
   "metadata": {},
   "outputs": [
    {
     "data": {
      "text/plain": [
       "permalink                      0\n",
       "name                           1\n",
       "homepage_url                6134\n",
       "category_list               3410\n",
       "status                         0\n",
       "country_code                8678\n",
       "state_code                 10946\n",
       "region                     10167\n",
       "city                       10164\n",
       "founded_at                 20521\n",
       "company_permalink              0\n",
       "funding_round_permalink        0\n",
       "funding_round_type             0\n",
       "funding_round_code         83809\n",
       "funded_at                      0\n",
       "raised_amount_usd          19990\n",
       "dtype: int64"
      ]
     },
     "execution_count": 19,
     "metadata": {},
     "output_type": "execute_result"
    }
   ],
   "source": [
    "master_frame.isnull().sum()"
   ]
  },
  {
   "cell_type": "code",
   "execution_count": 20,
   "metadata": {},
   "outputs": [
    {
     "name": "stdout",
     "output_type": "stream",
     "text": [
      "<class 'pandas.core.frame.DataFrame'>\n",
      "Int64Index: 94959 entries, 0 to 114948\n",
      "Data columns (total 16 columns):\n",
      " #   Column                   Non-Null Count  Dtype  \n",
      "---  ------                   --------------  -----  \n",
      " 0   permalink                94959 non-null  object \n",
      " 1   name                     94958 non-null  object \n",
      " 2   homepage_url             90627 non-null  object \n",
      " 3   category_list            93915 non-null  object \n",
      " 4   status                   94959 non-null  object \n",
      " 5   country_code             89108 non-null  object \n",
      " 6   state_code               87355 non-null  object \n",
      " 7   region                   87911 non-null  object \n",
      " 8   city                     87914 non-null  object \n",
      " 9   founded_at               78993 non-null  object \n",
      " 10  company_permalink        94959 non-null  object \n",
      " 11  funding_round_permalink  94959 non-null  object \n",
      " 12  funding_round_type       94959 non-null  object \n",
      " 13  funding_round_code       28169 non-null  object \n",
      " 14  funded_at                94959 non-null  object \n",
      " 15  raised_amount_usd        94959 non-null  float64\n",
      "dtypes: float64(1), object(15)\n",
      "memory usage: 12.3+ MB\n"
     ]
    }
   ],
   "source": [
    "#droping the null values of raised_amount_usd\n",
    "master_frame=master_frame[~master_frame[\"raised_amount_usd\"].isnull()]\n",
    "master_frame.info()"
   ]
  },
  {
   "cell_type": "code",
   "execution_count": 21,
   "metadata": {},
   "outputs": [
    {
     "data": {
      "text/plain": [
       "permalink                   0.00\n",
       "name                        0.00\n",
       "homepage_url                4.56\n",
       "category_list               1.10\n",
       "status                      0.00\n",
       "country_code                6.16\n",
       "state_code                  8.01\n",
       "region                      7.42\n",
       "city                        7.42\n",
       "founded_at                 16.81\n",
       "company_permalink           0.00\n",
       "funding_round_permalink     0.00\n",
       "funding_round_type          0.00\n",
       "funding_round_code         70.34\n",
       "funded_at                   0.00\n",
       "raised_amount_usd           0.00\n",
       "dtype: float64"
      ]
     },
     "execution_count": 21,
     "metadata": {},
     "output_type": "execute_result"
    }
   ],
   "source": [
    "# Evaulate missing data in terms of percentage\n",
    "round(100*(master_frame.isnull().sum()/len(master_frame.index)), 2)"
   ]
  },
  {
   "cell_type": "code",
   "execution_count": 22,
   "metadata": {},
   "outputs": [
    {
     "data": {
      "text/plain": [
       "permalink                  0.00\n",
       "name                       0.00\n",
       "homepage_url               4.56\n",
       "category_list              1.10\n",
       "status                     0.00\n",
       "country_code               6.16\n",
       "state_code                 8.01\n",
       "region                     7.42\n",
       "city                       7.42\n",
       "funding_round_permalink    0.00\n",
       "funding_round_type         0.00\n",
       "funded_at                  0.00\n",
       "raised_amount_usd          0.00\n",
       "dtype: float64"
      ]
     },
     "execution_count": 22,
     "metadata": {},
     "output_type": "execute_result"
    }
   ],
   "source": [
    "# removing non-contributing and duplicate columns \n",
    "master_frame = master_frame.drop('funding_round_code', axis=1)\n",
    "master_frame = master_frame.drop('founded_at', axis=1)\n",
    "master_frame = master_frame.drop('company_permalink', axis=1)\n",
    "\n",
    "# Views missing data report post initial cleanup \n",
    "round(100*(master_frame.isnull().sum()/len(master_frame.index)), 2)"
   ]
  },
  {
   "cell_type": "markdown",
   "metadata": {},
   "source": [
    "At this point we have 6 columns with missing data. \n",
    "** I would be hesitent to remove any more row data as we have the raised_amount_usd info for all remaining rows. **\n",
    "We could ignore the missing values of state_code, region and city as they do not bring any value for our final analysis\n"
   ]
  },
  {
   "cell_type": "code",
   "execution_count": 23,
   "metadata": {},
   "outputs": [
    {
     "data": {
      "text/plain": [
       "permalink                  0.00\n",
       "name                       0.00\n",
       "category_list              1.10\n",
       "status                     0.00\n",
       "country_code               6.16\n",
       "funding_round_permalink    0.00\n",
       "funding_round_type         0.00\n",
       "funded_at                  0.00\n",
       "raised_amount_usd          0.00\n",
       "dtype: float64"
      ]
     },
     "execution_count": 23,
     "metadata": {},
     "output_type": "execute_result"
    }
   ],
   "source": [
    "# lets furture remove some of the columns which does not contribute to our current analysis\n",
    "master_frame = master_frame.drop('homepage_url', axis=1)\n",
    "master_frame = master_frame.drop('state_code', axis=1)\n",
    "master_frame = master_frame.drop('region', axis=1)\n",
    "master_frame = master_frame.drop('city', axis=1)\n",
    "\n",
    "# Missing data report post cleanup \n",
    "round(100*(master_frame.isnull().sum()/len(master_frame.index)), 2)"
   ]
  },
  {
   "cell_type": "code",
   "execution_count": 24,
   "metadata": {},
   "outputs": [
    {
     "data": {
      "text/plain": [
       "0.8261471002766613"
      ]
     },
     "execution_count": 24,
     "metadata": {},
     "output_type": "execute_result"
    }
   ],
   "source": [
    "# fraction of rows lost\n",
    "len(master_frame.index)/114942"
   ]
  },
  {
   "cell_type": "code",
   "execution_count": 25,
   "metadata": {},
   "outputs": [
    {
     "data": {
      "text/plain": [
       "5851"
      ]
     },
     "execution_count": 25,
     "metadata": {},
     "output_type": "execute_result"
    }
   ],
   "source": [
    "master_frame.country_code.isnull().sum()"
   ]
  },
  {
   "cell_type": "code",
   "execution_count": 26,
   "metadata": {},
   "outputs": [
    {
     "data": {
      "text/plain": [
       "permalink                  0.00\n",
       "name                       0.00\n",
       "category_list              0.65\n",
       "status                     0.00\n",
       "country_code               0.00\n",
       "funding_round_permalink    0.00\n",
       "funding_round_type         0.00\n",
       "funded_at                  0.00\n",
       "raised_amount_usd          0.00\n",
       "dtype: float64"
      ]
     },
     "execution_count": 26,
     "metadata": {},
     "output_type": "execute_result"
    }
   ],
   "source": [
    "#Removing all the null values in country_code\n",
    "master_frame=master_frame[~master_frame[\"country_code\"].isnull()]\n",
    "round(100*(master_frame.isnull().sum()/len(master_frame.index)), 2)"
   ]
  },
  {
   "cell_type": "code",
   "execution_count": 27,
   "metadata": {},
   "outputs": [
    {
     "data": {
      "text/plain": [
       "permalink                  0.0\n",
       "name                       0.0\n",
       "category_list              0.0\n",
       "status                     0.0\n",
       "country_code               0.0\n",
       "funding_round_permalink    0.0\n",
       "funding_round_type         0.0\n",
       "funded_at                  0.0\n",
       "raised_amount_usd          0.0\n",
       "dtype: float64"
      ]
     },
     "execution_count": 27,
     "metadata": {},
     "output_type": "execute_result"
    }
   ],
   "source": [
    "#Removing all the null values in category_list\n",
    "master_frame=master_frame[~master_frame[\"category_list\"].isnull()]\n",
    "round(100*(master_frame.isnull().sum()/len(master_frame.index)), 2)"
   ]
  },
  {
   "cell_type": "markdown",
   "metadata": {},
   "source": [
    "The funding types such as seed, venture, angel, etc. depend on the type of the company (startup, corporate, etc.), its stage (early stage startup, funded startup, etc.), the amount of funding (a few million USD to a billion USD), and so on. For example, seed, angel and venture are three common stages of startup funding.\n",
    "\n",
    "Seed/angel funding refer to early stage startups whereas venture funding occurs after seed or angel stage/s and involves a relatively higher amount of investment.\n",
    "Private equity type investments are associated with much larger companies and involve much higher investments than venture type. Startups which have grown in scale may also receive private equity funding. This means that if a company has reached the venture stage, it would have already passed through the angel or seed stage/s.\n",
    " \n",
    "\n",
    "Spark Funds wants to choose one of these four investment types for each potential investment they will make.\n",
    "\n",
    " \n",
    "\n",
    "Considering the constraints of Spark Funds, you have to decide one funding type which is most suitable for them.\n",
    "\n",
    "Calculate the most representative value of the investment amount for each of the four funding types (venture, angel, seed, and private equity).\n",
    "\n",
    "Based on the most representative investment amount calculated above, which investment type do you think is the most suitable for Spark Funds?"
   ]
  },
  {
   "cell_type": "code",
   "execution_count": 28,
   "metadata": {},
   "outputs": [],
   "source": [
    "#As we are only intrested in venture, angel, seed and private_equity Funding type\n",
    "master_frame=master_frame[master_frame[\"funding_round_type\"].isin([\"venture\",\"angel\",\"seed\",\"private_equity\"])]"
   ]
  },
  {
   "cell_type": "code",
   "execution_count": 29,
   "metadata": {},
   "outputs": [
    {
     "data": {
      "text/plain": [
       "(75124, 9)"
      ]
     },
     "execution_count": 29,
     "metadata": {},
     "output_type": "execute_result"
    }
   ],
   "source": [
    "master_frame.shape"
   ]
  },
  {
   "cell_type": "code",
   "execution_count": 30,
   "metadata": {},
   "outputs": [
    {
     "data": {
      "image/png": "[encoded data removed]",
      "text/plain": [
       "<Figure size 1080x720 with 1 Axes>"
      ]
     },
     "metadata": {
      "needs_background": "light"
     },
     "output_type": "display_data"
    }
   ],
   "source": [
    "# boxplot of a variable across various funding categories\n",
    "plt.figure(figsize=(15, 10))\n",
    "sns.boxplot(x='funding_round_type', y='raised_amount_usd', data=master_frame)\n",
    "plt.yscale('log')\n",
    "plt.show()"
   ]
  },
  {
   "cell_type": "code",
   "execution_count": 31,
   "metadata": {},
   "outputs": [
    {
     "data": {
      "text/plain": [
       "funding_round_type\n",
       "private_equity    20000000.0\n",
       "venture            5000000.0\n",
       "angel               414906.0\n",
       "seed                300000.0\n",
       "Name: raised_amount_usd, dtype: float64"
      ]
     },
     "execution_count": 31,
     "metadata": {},
     "output_type": "execute_result"
    }
   ],
   "source": [
    "master_frame.groupby('funding_round_type')['raised_amount_usd'].median().sort_values(ascending=False)"
   ]
  },
  {
   "cell_type": "code",
   "execution_count": 32,
   "metadata": {},
   "outputs": [
    {
     "data": {
      "image/png": "[encoded data removed]",
      "text/plain": [
       "<Figure size 864x432 with 2 Axes>"
      ]
     },
     "metadata": {
      "needs_background": "light"
     },
     "output_type": "display_data"
    }
   ],
   "source": [
    "# Create 2 subplots for mean and median respectively\n",
    "\n",
    "# increase figure size \n",
    "plt.figure(figsize=(12, 6))\n",
    "\n",
    "# subplot 1: statistic=mean\n",
    "plt.subplot(1, 2, 1)\n",
    "sns.barplot(x='funding_round_type', y=\"raised_amount_usd\", data=master_frame,estimator=np.mean)\n",
    "plt.title(\"Average\")\n",
    "\n",
    "# subplot 2: statistic=median\n",
    "plt.subplot(1, 2, 2)\n",
    "sns.barplot(x='funding_round_type', y='raised_amount_usd', data=master_frame, estimator=np.median)\n",
    "plt.title(\"Median\")\n",
    "\n",
    "plt.show()"
   ]
  },
  {
   "cell_type": "code",
   "execution_count": 33,
   "metadata": {},
   "outputs": [
    {
     "data": {
      "text/plain": [
       "11724222.690204773"
      ]
     },
     "execution_count": 33,
     "metadata": {},
     "output_type": "execute_result"
    }
   ],
   "source": [
    "#Average funding amount of venture type\n",
    "master_frame[master_frame[\"funding_round_type\"]==\"venture\"].raised_amount_usd.mean()"
   ]
  },
  {
   "cell_type": "code",
   "execution_count": 34,
   "metadata": {},
   "outputs": [
    {
     "data": {
      "text/plain": [
       "747793.6824840009"
      ]
     },
     "execution_count": 34,
     "metadata": {},
     "output_type": "execute_result"
    }
   ],
   "source": [
    "master_frame[master_frame[\"funding_round_type\"]==\"seed\"].raised_amount_usd.mean()"
   ]
  },
  {
   "cell_type": "code",
   "execution_count": 35,
   "metadata": {},
   "outputs": [
    {
     "data": {
      "text/plain": [
       "971573.8911363636"
      ]
     },
     "execution_count": 35,
     "metadata": {},
     "output_type": "execute_result"
    }
   ],
   "source": [
    "master_frame[master_frame[\"funding_round_type\"]==\"angel\"].raised_amount_usd.mean()"
   ]
  },
  {
   "cell_type": "code",
   "execution_count": 36,
   "metadata": {},
   "outputs": [
    {
     "data": {
      "text/plain": [
       "73938486.27527472"
      ]
     },
     "execution_count": 36,
     "metadata": {},
     "output_type": "execute_result"
    }
   ],
   "source": [
    "master_frame[master_frame[\"funding_round_type\"]==\"private_equity\"].raised_amount_usd.mean()"
   ]
  },
  {
   "cell_type": "code",
   "execution_count": 37,
   "metadata": {},
   "outputs": [
    {
     "data": {
      "text/html": [
       "<div>\n",
       "<style scoped>\n",
       "    .dataframe tbody tr th:only-of-type {\n",
       "        vertical-align: middle;\n",
       "    }\n",
       "\n",
       "    .dataframe tbody tr th {\n",
       "        vertical-align: top;\n",
       "    }\n",
       "\n",
       "    .dataframe thead th {\n",
       "        text-align: right;\n",
       "    }\n",
       "</style>\n",
       "<table border=\"1\" class=\"dataframe\">\n",
       "  <thead>\n",
       "    <tr style=\"text-align: right;\">\n",
       "      <th></th>\n",
       "      <th>funding_round_type</th>\n",
       "      <th>Fraction</th>\n",
       "      <th>Average</th>\n",
       "    </tr>\n",
       "  </thead>\n",
       "  <tbody>\n",
       "    <tr>\n",
       "      <th>0</th>\n",
       "      <td>angel</td>\n",
       "      <td>0.60</td>\n",
       "      <td>971573.89</td>\n",
       "    </tr>\n",
       "    <tr>\n",
       "      <th>1</th>\n",
       "      <td>private_equity</td>\n",
       "      <td>18.82</td>\n",
       "      <td>73938486.28</td>\n",
       "    </tr>\n",
       "    <tr>\n",
       "      <th>2</th>\n",
       "      <td>seed</td>\n",
       "      <td>2.21</td>\n",
       "      <td>747793.68</td>\n",
       "    </tr>\n",
       "    <tr>\n",
       "      <th>3</th>\n",
       "      <td>venture</td>\n",
       "      <td>78.38</td>\n",
       "      <td>11724222.69</td>\n",
       "    </tr>\n",
       "  </tbody>\n",
       "</table>\n",
       "</div>"
      ],
      "text/plain": [
       "  funding_round_type  Fraction      Average\n",
       "0              angel      0.60    971573.89\n",
       "1     private_equity     18.82  73938486.28\n",
       "2               seed      2.21    747793.68\n",
       "3            venture     78.38  11724222.69"
      ]
     },
     "execution_count": 37,
     "metadata": {},
     "output_type": "execute_result"
    }
   ],
   "source": [
    "plot=master_frame.groupby([\"funding_round_type\"])[\"raised_amount_usd\"].agg(Fraction='sum',Average='mean').reset_index()\n",
    "plot[\"Fraction\"]=plot[\"Fraction\"].apply(lambda x:round((x/plot.Fraction.sum())*100,2))\n",
    "plot[\"Average\"]=plot[\"Average\"].apply(lambda x:round(x,2))\n",
    "plot"
   ]
  },
  {
   "cell_type": "code",
   "execution_count": 38,
   "metadata": {},
   "outputs": [
    {
     "data": {
      "image/png": "[encoded data removed]",
      "text/plain": [
       "<Figure size 720x360 with 1 Axes>"
      ]
     },
     "metadata": {
      "needs_background": "light"
     },
     "output_type": "display_data"
    }
   ],
   "source": [
    "#ploting th graph between average and fraction of funding amount\n",
    "plt.figure(figsize=(10,5))\n",
    "plot1=sns.barplot(data=plot,x=\"Fraction\",y=\"Average\",hue=\"funding_round_type\")\n",
    "plot1.set(xlabel=\"Fraction of Funding Type\",ylabel=\"Average amount (1 Unit=10M USD)\")\n",
    "plot1.set_title(\"PLot 1 Funding Type Analysis\",fontsize=16)\n",
    "plt.show()"
   ]
  },
  {
   "cell_type": "markdown",
   "metadata": {},
   "source": [
    "### From above chart it seems that many are investing in venture and they fall in the bracket of 5 to 15 million which spark fund have budgeted for. "
   ]
  },
  {
   "cell_type": "code",
   "execution_count": 39,
   "metadata": {},
   "outputs": [
    {
     "data": {
      "text/html": [
       "<div>\n",
       "<style scoped>\n",
       "    .dataframe tbody tr th:only-of-type {\n",
       "        vertical-align: middle;\n",
       "    }\n",
       "\n",
       "    .dataframe tbody tr th {\n",
       "        vertical-align: top;\n",
       "    }\n",
       "\n",
       "    .dataframe thead th {\n",
       "        text-align: right;\n",
       "    }\n",
       "</style>\n",
       "<table border=\"1\" class=\"dataframe\">\n",
       "  <thead>\n",
       "    <tr style=\"text-align: right;\">\n",
       "      <th></th>\n",
       "      <th>raised_amount_usd</th>\n",
       "    </tr>\n",
       "  </thead>\n",
       "  <tbody>\n",
       "    <tr>\n",
       "      <th>count</th>\n",
       "      <td>4.780900e+04</td>\n",
       "    </tr>\n",
       "    <tr>\n",
       "      <th>mean</th>\n",
       "      <td>1.172422e+07</td>\n",
       "    </tr>\n",
       "    <tr>\n",
       "      <th>std</th>\n",
       "      <td>8.821571e+07</td>\n",
       "    </tr>\n",
       "    <tr>\n",
       "      <th>min</th>\n",
       "      <td>0.000000e+00</td>\n",
       "    </tr>\n",
       "    <tr>\n",
       "      <th>25%</th>\n",
       "      <td>1.600000e+06</td>\n",
       "    </tr>\n",
       "    <tr>\n",
       "      <th>50%</th>\n",
       "      <td>5.000000e+06</td>\n",
       "    </tr>\n",
       "    <tr>\n",
       "      <th>75%</th>\n",
       "      <td>1.200000e+07</td>\n",
       "    </tr>\n",
       "    <tr>\n",
       "      <th>max</th>\n",
       "      <td>1.760000e+10</td>\n",
       "    </tr>\n",
       "  </tbody>\n",
       "</table>\n",
       "</div>"
      ],
      "text/plain": [
       "       raised_amount_usd\n",
       "count       4.780900e+04\n",
       "mean        1.172422e+07\n",
       "std         8.821571e+07\n",
       "min         0.000000e+00\n",
       "25%         1.600000e+06\n",
       "50%         5.000000e+06\n",
       "75%         1.200000e+07\n",
       "max         1.760000e+10"
      ]
     },
     "execution_count": 39,
     "metadata": {},
     "output_type": "execute_result"
    }
   ],
   "source": [
    "#Let's  filter the data with funding Type Ventur\n",
    "master_frame=master_frame[master_frame[\"funding_round_type\"]==\"venture\"]\n",
    "master_frame.describe()"
   ]
  },
  {
   "cell_type": "code",
   "execution_count": 40,
   "metadata": {},
   "outputs": [
    {
     "data": {
      "text/plain": [
       "country_code\n",
       "USA    4.200680e+11\n",
       "CHN    3.933892e+10\n",
       "GBR    2.007281e+10\n",
       "IND    1.426151e+10\n",
       "CAN    9.482218e+09\n",
       "FRA    7.226851e+09\n",
       "ISR    6.854350e+09\n",
       "DEU    6.306922e+09\n",
       "JPN    3.167647e+09\n",
       "Name: raised_amount_usd, dtype: float64"
      ]
     },
     "execution_count": 40,
     "metadata": {},
     "output_type": "execute_result"
    }
   ],
   "source": [
    "#finding the top 9 countries where investment occured most\n",
    "top9=master_frame.groupby([\"country_code\"])[\"raised_amount_usd\"].sum().sort_values(ascending=False).head(9)\n",
    "top9"
   ]
  },
  {
   "cell_type": "code",
   "execution_count": 41,
   "metadata": {},
   "outputs": [],
   "source": [
    "top9_df=master_frame[master_frame.country_code.isin(top9.index.tolist())]"
   ]
  },
  {
   "cell_type": "code",
   "execution_count": 42,
   "metadata": {},
   "outputs": [
    {
     "data": {
      "image/png": "[encoded data removed]",
      "text/plain": [
       "<Figure size 720x360 with 1 Axes>"
      ]
     },
     "metadata": {
      "needs_background": "light"
     },
     "output_type": "display_data"
    }
   ],
   "source": [
    "#plot the graph of top 9 english speaking cuntries\n",
    "plt.figure(figsize=(10,5))\n",
    "plot2=top9_df.groupby([\"country_code\"])[\"raised_amount_usd\"].sum().plot.barh()\n",
    "plot2.set(xlabel=\"Countries\",ylabel=\"Raised Amount\")\n",
    "plot2.set_title(\"Plot 2 Country Analysis\",fontsize=16)\n",
    "plt.show()"
   ]
  },
  {
   "cell_type": "markdown",
   "metadata": {},
   "source": [
    "### Top three english speaking countires are\n",
    "USA\n",
    "\n",
    "GBR\n",
    "\n",
    "IND"
   ]
  },
  {
   "cell_type": "code",
   "execution_count": 43,
   "metadata": {},
   "outputs": [],
   "source": [
    "#creating column primary_sector\n",
    "master_frame[\"primary_sector\"]=master_frame[\"category_list\"].apply(lambda x:x.split('|')[0] if '|' in x else x)\n",
    "master_frame[\"primary_sector\"]=master_frame[\"primary_sector\"].str.lower()"
   ]
  },
  {
   "cell_type": "code",
   "execution_count": 44,
   "metadata": {},
   "outputs": [
    {
     "name": "stdout",
     "output_type": "stream",
     "text": [
      "<class 'pandas.core.frame.DataFrame'>\n",
      "RangeIndex: 688 entries, 0 to 687\n",
      "Data columns (total 10 columns):\n",
      " #   Column                                   Non-Null Count  Dtype \n",
      "---  ------                                   --------------  ----- \n",
      " 0   category_list                            687 non-null    object\n",
      " 1   Automotive & Sports                      688 non-null    int64 \n",
      " 2   Blanks                                   688 non-null    int64 \n",
      " 3   Cleantech / Semiconductors               688 non-null    int64 \n",
      " 4   Entertainment                            688 non-null    int64 \n",
      " 5   Health                                   688 non-null    int64 \n",
      " 6   Manufacturing                            688 non-null    int64 \n",
      " 7   News, Search and Messaging               688 non-null    int64 \n",
      " 8   Others                                   688 non-null    int64 \n",
      " 9   Social, Finance, Analytics, Advertising  688 non-null    int64 \n",
      "dtypes: int64(9), object(1)\n",
      "memory usage: 53.9+ KB\n"
     ]
    }
   ],
   "source": [
    "#importing the mapping file\n",
    "mapping=pd.read_csv(\"mapping.csv\")\n",
    "mapping.info()"
   ]
  },
  {
   "cell_type": "code",
   "execution_count": 45,
   "metadata": {},
   "outputs": [
    {
     "data": {
      "text/html": [
       "<div>\n",
       "<style scoped>\n",
       "    .dataframe tbody tr th:only-of-type {\n",
       "        vertical-align: middle;\n",
       "    }\n",
       "\n",
       "    .dataframe tbody tr th {\n",
       "        vertical-align: top;\n",
       "    }\n",
       "\n",
       "    .dataframe thead th {\n",
       "        text-align: right;\n",
       "    }\n",
       "</style>\n",
       "<table border=\"1\" class=\"dataframe\">\n",
       "  <thead>\n",
       "    <tr style=\"text-align: right;\">\n",
       "      <th></th>\n",
       "      <th>category_list</th>\n",
       "      <th>Automotive &amp; Sports</th>\n",
       "      <th>Blanks</th>\n",
       "      <th>Cleantech / Semiconductors</th>\n",
       "      <th>Entertainment</th>\n",
       "      <th>Health</th>\n",
       "      <th>Manufacturing</th>\n",
       "      <th>News, Search and Messaging</th>\n",
       "      <th>Others</th>\n",
       "      <th>Social, Finance, Analytics, Advertising</th>\n",
       "    </tr>\n",
       "  </thead>\n",
       "  <tbody>\n",
       "    <tr>\n",
       "      <th>0</th>\n",
       "      <td>NaN</td>\n",
       "      <td>0</td>\n",
       "      <td>1</td>\n",
       "      <td>0</td>\n",
       "      <td>0</td>\n",
       "      <td>0</td>\n",
       "      <td>0</td>\n",
       "      <td>0</td>\n",
       "      <td>0</td>\n",
       "      <td>0</td>\n",
       "    </tr>\n",
       "    <tr>\n",
       "      <th>1</th>\n",
       "      <td>3D</td>\n",
       "      <td>0</td>\n",
       "      <td>0</td>\n",
       "      <td>0</td>\n",
       "      <td>0</td>\n",
       "      <td>0</td>\n",
       "      <td>1</td>\n",
       "      <td>0</td>\n",
       "      <td>0</td>\n",
       "      <td>0</td>\n",
       "    </tr>\n",
       "    <tr>\n",
       "      <th>2</th>\n",
       "      <td>3D Printing</td>\n",
       "      <td>0</td>\n",
       "      <td>0</td>\n",
       "      <td>0</td>\n",
       "      <td>0</td>\n",
       "      <td>0</td>\n",
       "      <td>1</td>\n",
       "      <td>0</td>\n",
       "      <td>0</td>\n",
       "      <td>0</td>\n",
       "    </tr>\n",
       "    <tr>\n",
       "      <th>3</th>\n",
       "      <td>3D Technology</td>\n",
       "      <td>0</td>\n",
       "      <td>0</td>\n",
       "      <td>0</td>\n",
       "      <td>0</td>\n",
       "      <td>0</td>\n",
       "      <td>1</td>\n",
       "      <td>0</td>\n",
       "      <td>0</td>\n",
       "      <td>0</td>\n",
       "    </tr>\n",
       "    <tr>\n",
       "      <th>4</th>\n",
       "      <td>Accounting</td>\n",
       "      <td>0</td>\n",
       "      <td>0</td>\n",
       "      <td>0</td>\n",
       "      <td>0</td>\n",
       "      <td>0</td>\n",
       "      <td>0</td>\n",
       "      <td>0</td>\n",
       "      <td>0</td>\n",
       "      <td>1</td>\n",
       "    </tr>\n",
       "  </tbody>\n",
       "</table>\n",
       "</div>"
      ],
      "text/plain": [
       "   category_list  Automotive & Sports  Blanks  Cleantech / Semiconductors  \\\n",
       "0            NaN                    0       1                           0   \n",
       "1             3D                    0       0                           0   \n",
       "2    3D Printing                    0       0                           0   \n",
       "3  3D Technology                    0       0                           0   \n",
       "4     Accounting                    0       0                           0   \n",
       "\n",
       "   Entertainment  Health  Manufacturing  News, Search and Messaging  Others  \\\n",
       "0              0       0              0                           0       0   \n",
       "1              0       0              1                           0       0   \n",
       "2              0       0              1                           0       0   \n",
       "3              0       0              1                           0       0   \n",
       "4              0       0              0                           0       0   \n",
       "\n",
       "   Social, Finance, Analytics, Advertising  \n",
       "0                                        0  \n",
       "1                                        0  \n",
       "2                                        0  \n",
       "3                                        0  \n",
       "4                                        1  "
      ]
     },
     "execution_count": 45,
     "metadata": {},
     "output_type": "execute_result"
    }
   ],
   "source": [
    "mapping.head()"
   ]
  },
  {
   "cell_type": "markdown",
   "metadata": {},
   "source": [
    "### Totally there are 7 main categories excluding Others and Blank data"
   ]
  },
  {
   "cell_type": "code",
   "execution_count": 46,
   "metadata": {},
   "outputs": [
    {
     "data": {
      "text/plain": [
       "'Alter0tive Medicine'"
      ]
     },
     "execution_count": 46,
     "metadata": {},
     "output_type": "execute_result"
    }
   ],
   "source": [
    "mapping.category_list[20]"
   ]
  },
  {
   "cell_type": "code",
   "execution_count": 47,
   "metadata": {},
   "outputs": [],
   "source": [
    "#Cleaning the data\n",
    "mapping.category_list=mapping.category_list.apply(lambda x: str(x).replace(\"0\",\"na\"))"
   ]
  },
  {
   "cell_type": "code",
   "execution_count": 48,
   "metadata": {},
   "outputs": [
    {
     "data": {
      "text/plain": [
       "'Alternative Medicine'"
      ]
     },
     "execution_count": 48,
     "metadata": {},
     "output_type": "execute_result"
    }
   ],
   "source": [
    "mapping.category_list[20]"
   ]
  },
  {
   "cell_type": "code",
   "execution_count": 49,
   "metadata": {},
   "outputs": [
    {
     "data": {
      "text/html": [
       "<div>\n",
       "<style scoped>\n",
       "    .dataframe tbody tr th:only-of-type {\n",
       "        vertical-align: middle;\n",
       "    }\n",
       "\n",
       "    .dataframe tbody tr th {\n",
       "        vertical-align: top;\n",
       "    }\n",
       "\n",
       "    .dataframe thead th {\n",
       "        text-align: right;\n",
       "    }\n",
       "</style>\n",
       "<table border=\"1\" class=\"dataframe\">\n",
       "  <thead>\n",
       "    <tr style=\"text-align: right;\">\n",
       "      <th></th>\n",
       "      <th>Automotive &amp; Sports</th>\n",
       "      <th>Blanks</th>\n",
       "      <th>Cleantech / Semiconductors</th>\n",
       "      <th>Entertainment</th>\n",
       "      <th>Health</th>\n",
       "      <th>Manufacturing</th>\n",
       "      <th>News, Search and Messaging</th>\n",
       "      <th>Others</th>\n",
       "      <th>Social, Finance, Analytics, Advertising</th>\n",
       "    </tr>\n",
       "  </thead>\n",
       "  <tbody>\n",
       "    <tr>\n",
       "      <th>count</th>\n",
       "      <td>688.000000</td>\n",
       "      <td>688.000000</td>\n",
       "      <td>688.000000</td>\n",
       "      <td>688.000000</td>\n",
       "      <td>688.000000</td>\n",
       "      <td>688.000000</td>\n",
       "      <td>688.000000</td>\n",
       "      <td>688.000000</td>\n",
       "      <td>688.000000</td>\n",
       "    </tr>\n",
       "    <tr>\n",
       "      <th>mean</th>\n",
       "      <td>0.031977</td>\n",
       "      <td>0.001453</td>\n",
       "      <td>0.077035</td>\n",
       "      <td>0.129360</td>\n",
       "      <td>0.091570</td>\n",
       "      <td>0.058140</td>\n",
       "      <td>0.104651</td>\n",
       "      <td>0.283430</td>\n",
       "      <td>0.222384</td>\n",
       "    </tr>\n",
       "    <tr>\n",
       "      <th>std</th>\n",
       "      <td>0.176066</td>\n",
       "      <td>0.038125</td>\n",
       "      <td>0.266841</td>\n",
       "      <td>0.335843</td>\n",
       "      <td>0.288627</td>\n",
       "      <td>0.234177</td>\n",
       "      <td>0.306326</td>\n",
       "      <td>0.450991</td>\n",
       "      <td>0.416150</td>\n",
       "    </tr>\n",
       "    <tr>\n",
       "      <th>min</th>\n",
       "      <td>0.000000</td>\n",
       "      <td>0.000000</td>\n",
       "      <td>0.000000</td>\n",
       "      <td>0.000000</td>\n",
       "      <td>0.000000</td>\n",
       "      <td>0.000000</td>\n",
       "      <td>0.000000</td>\n",
       "      <td>0.000000</td>\n",
       "      <td>0.000000</td>\n",
       "    </tr>\n",
       "    <tr>\n",
       "      <th>25%</th>\n",
       "      <td>0.000000</td>\n",
       "      <td>0.000000</td>\n",
       "      <td>0.000000</td>\n",
       "      <td>0.000000</td>\n",
       "      <td>0.000000</td>\n",
       "      <td>0.000000</td>\n",
       "      <td>0.000000</td>\n",
       "      <td>0.000000</td>\n",
       "      <td>0.000000</td>\n",
       "    </tr>\n",
       "    <tr>\n",
       "      <th>50%</th>\n",
       "      <td>0.000000</td>\n",
       "      <td>0.000000</td>\n",
       "      <td>0.000000</td>\n",
       "      <td>0.000000</td>\n",
       "      <td>0.000000</td>\n",
       "      <td>0.000000</td>\n",
       "      <td>0.000000</td>\n",
       "      <td>0.000000</td>\n",
       "      <td>0.000000</td>\n",
       "    </tr>\n",
       "    <tr>\n",
       "      <th>75%</th>\n",
       "      <td>0.000000</td>\n",
       "      <td>0.000000</td>\n",
       "      <td>0.000000</td>\n",
       "      <td>0.000000</td>\n",
       "      <td>0.000000</td>\n",
       "      <td>0.000000</td>\n",
       "      <td>0.000000</td>\n",
       "      <td>1.000000</td>\n",
       "      <td>0.000000</td>\n",
       "    </tr>\n",
       "    <tr>\n",
       "      <th>max</th>\n",
       "      <td>1.000000</td>\n",
       "      <td>1.000000</td>\n",
       "      <td>1.000000</td>\n",
       "      <td>1.000000</td>\n",
       "      <td>1.000000</td>\n",
       "      <td>1.000000</td>\n",
       "      <td>1.000000</td>\n",
       "      <td>1.000000</td>\n",
       "      <td>1.000000</td>\n",
       "    </tr>\n",
       "  </tbody>\n",
       "</table>\n",
       "</div>"
      ],
      "text/plain": [
       "       Automotive & Sports      Blanks  Cleantech / Semiconductors  \\\n",
       "count           688.000000  688.000000                  688.000000   \n",
       "mean              0.031977    0.001453                    0.077035   \n",
       "std               0.176066    0.038125                    0.266841   \n",
       "min               0.000000    0.000000                    0.000000   \n",
       "25%               0.000000    0.000000                    0.000000   \n",
       "50%               0.000000    0.000000                    0.000000   \n",
       "75%               0.000000    0.000000                    0.000000   \n",
       "max               1.000000    1.000000                    1.000000   \n",
       "\n",
       "       Entertainment      Health  Manufacturing  News, Search and Messaging  \\\n",
       "count     688.000000  688.000000     688.000000                  688.000000   \n",
       "mean        0.129360    0.091570       0.058140                    0.104651   \n",
       "std         0.335843    0.288627       0.234177                    0.306326   \n",
       "min         0.000000    0.000000       0.000000                    0.000000   \n",
       "25%         0.000000    0.000000       0.000000                    0.000000   \n",
       "50%         0.000000    0.000000       0.000000                    0.000000   \n",
       "75%         0.000000    0.000000       0.000000                    0.000000   \n",
       "max         1.000000    1.000000       1.000000                    1.000000   \n",
       "\n",
       "           Others  Social, Finance, Analytics, Advertising  \n",
       "count  688.000000                               688.000000  \n",
       "mean     0.283430                                 0.222384  \n",
       "std      0.450991                                 0.416150  \n",
       "min      0.000000                                 0.000000  \n",
       "25%      0.000000                                 0.000000  \n",
       "50%      0.000000                                 0.000000  \n",
       "75%      1.000000                                 0.000000  \n",
       "max      1.000000                                 1.000000  "
      ]
     },
     "execution_count": 49,
     "metadata": {},
     "output_type": "execute_result"
    }
   ],
   "source": [
    "mapping.describe()"
   ]
  },
  {
   "cell_type": "code",
   "execution_count": 50,
   "metadata": {},
   "outputs": [
    {
     "data": {
      "text/plain": [
       "0                                     Blanks\n",
       "1                              Manufacturing\n",
       "2                              Manufacturing\n",
       "3                              Manufacturing\n",
       "4    Social, Finance, Analytics, Advertising\n",
       "dtype: object"
      ]
     },
     "execution_count": 50,
     "metadata": {},
     "output_type": "execute_result"
    }
   ],
   "source": [
    "main_sector=mapping.iloc[:,1:]\n",
    "main_sector=main_sector.idxmax(axis=1)\n",
    "main_sector.head()"
   ]
  },
  {
   "cell_type": "code",
   "execution_count": 51,
   "metadata": {},
   "outputs": [
    {
     "data": {
      "text/html": [
       "<div>\n",
       "<style scoped>\n",
       "    .dataframe tbody tr th:only-of-type {\n",
       "        vertical-align: middle;\n",
       "    }\n",
       "\n",
       "    .dataframe tbody tr th {\n",
       "        vertical-align: top;\n",
       "    }\n",
       "\n",
       "    .dataframe thead th {\n",
       "        text-align: right;\n",
       "    }\n",
       "</style>\n",
       "<table border=\"1\" class=\"dataframe\">\n",
       "  <thead>\n",
       "    <tr style=\"text-align: right;\">\n",
       "      <th></th>\n",
       "      <th>primary_sector</th>\n",
       "      <th>main_sector</th>\n",
       "    </tr>\n",
       "  </thead>\n",
       "  <tbody>\n",
       "    <tr>\n",
       "      <th>0</th>\n",
       "      <td>nan</td>\n",
       "      <td>Blanks</td>\n",
       "    </tr>\n",
       "    <tr>\n",
       "      <th>1</th>\n",
       "      <td>3d</td>\n",
       "      <td>Manufacturing</td>\n",
       "    </tr>\n",
       "    <tr>\n",
       "      <th>2</th>\n",
       "      <td>3d printing</td>\n",
       "      <td>Manufacturing</td>\n",
       "    </tr>\n",
       "    <tr>\n",
       "      <th>3</th>\n",
       "      <td>3d technology</td>\n",
       "      <td>Manufacturing</td>\n",
       "    </tr>\n",
       "    <tr>\n",
       "      <th>4</th>\n",
       "      <td>accounting</td>\n",
       "      <td>Social, Finance, Analytics, Advertising</td>\n",
       "    </tr>\n",
       "    <tr>\n",
       "      <th>...</th>\n",
       "      <td>...</td>\n",
       "      <td>...</td>\n",
       "    </tr>\n",
       "    <tr>\n",
       "      <th>683</th>\n",
       "      <td>wholesale</td>\n",
       "      <td>Others</td>\n",
       "    </tr>\n",
       "    <tr>\n",
       "      <th>684</th>\n",
       "      <td>wine and spirits</td>\n",
       "      <td>Entertainment</td>\n",
       "    </tr>\n",
       "    <tr>\n",
       "      <th>685</th>\n",
       "      <td>wireless</td>\n",
       "      <td>Entertainment</td>\n",
       "    </tr>\n",
       "    <tr>\n",
       "      <th>686</th>\n",
       "      <td>women</td>\n",
       "      <td>Others</td>\n",
       "    </tr>\n",
       "    <tr>\n",
       "      <th>687</th>\n",
       "      <td>young adults</td>\n",
       "      <td>Others</td>\n",
       "    </tr>\n",
       "  </tbody>\n",
       "</table>\n",
       "<p>688 rows × 2 columns</p>\n",
       "</div>"
      ],
      "text/plain": [
       "       primary_sector                              main_sector\n",
       "0                 nan                                   Blanks\n",
       "1                  3d                            Manufacturing\n",
       "2         3d printing                            Manufacturing\n",
       "3       3d technology                            Manufacturing\n",
       "4          accounting  Social, Finance, Analytics, Advertising\n",
       "..                ...                                      ...\n",
       "683         wholesale                                   Others\n",
       "684  wine and spirits                            Entertainment\n",
       "685          wireless                            Entertainment\n",
       "686             women                                   Others\n",
       "687      young adults                                   Others\n",
       "\n",
       "[688 rows x 2 columns]"
      ]
     },
     "execution_count": 51,
     "metadata": {},
     "output_type": "execute_result"
    }
   ],
   "source": [
    "category_list=mapping[\"category_list\"]\n",
    "mapping_sector=pd.concat([category_list,main_sector],axis=1)\n",
    "mapping_sector=mapping_sector.rename(columns={0:'main_sector'})\n",
    "mapping_sector=mapping_sector.rename(columns={'category_list':'primary_sector'})\n",
    "mapping_sector[\"primary_sector\"]=mapping_sector[\"primary_sector\"].str.lower()\n",
    "mapping_sector"
   ]
  },
  {
   "cell_type": "code",
   "execution_count": 52,
   "metadata": {},
   "outputs": [
    {
     "data": {
      "text/html": [
       "<div>\n",
       "<style scoped>\n",
       "    .dataframe tbody tr th:only-of-type {\n",
       "        vertical-align: middle;\n",
       "    }\n",
       "\n",
       "    .dataframe tbody tr th {\n",
       "        vertical-align: top;\n",
       "    }\n",
       "\n",
       "    .dataframe thead th {\n",
       "        text-align: right;\n",
       "    }\n",
       "</style>\n",
       "<table border=\"1\" class=\"dataframe\">\n",
       "  <thead>\n",
       "    <tr style=\"text-align: right;\">\n",
       "      <th></th>\n",
       "      <th>permalink</th>\n",
       "      <th>name</th>\n",
       "      <th>category_list</th>\n",
       "      <th>status</th>\n",
       "      <th>country_code</th>\n",
       "      <th>funding_round_permalink</th>\n",
       "      <th>funding_round_type</th>\n",
       "      <th>funded_at</th>\n",
       "      <th>raised_amount_usd</th>\n",
       "      <th>primary_sector</th>\n",
       "      <th>main_sector</th>\n",
       "      <th>_merge</th>\n",
       "    </tr>\n",
       "  </thead>\n",
       "  <tbody>\n",
       "    <tr>\n",
       "      <th>0</th>\n",
       "      <td>/organization/-fame</td>\n",
       "      <td>#fame</td>\n",
       "      <td>Media</td>\n",
       "      <td>operating</td>\n",
       "      <td>IND</td>\n",
       "      <td>/funding-round/9a01d05418af9f794eebff7ace91f638</td>\n",
       "      <td>venture</td>\n",
       "      <td>05-01-2015</td>\n",
       "      <td>10000000.0</td>\n",
       "      <td>media</td>\n",
       "      <td>Entertainment</td>\n",
       "      <td>both</td>\n",
       "    </tr>\n",
       "    <tr>\n",
       "      <th>1</th>\n",
       "      <td>/organization/0-6-com</td>\n",
       "      <td>0-6.com</td>\n",
       "      <td>Curated Web</td>\n",
       "      <td>operating</td>\n",
       "      <td>CHN</td>\n",
       "      <td>/funding-round/5727accaeaa57461bd22a9bdd945382d</td>\n",
       "      <td>venture</td>\n",
       "      <td>19-03-2008</td>\n",
       "      <td>2000000.0</td>\n",
       "      <td>curated web</td>\n",
       "      <td>News, Search and Messaging</td>\n",
       "      <td>both</td>\n",
       "    </tr>\n",
       "    <tr>\n",
       "      <th>2</th>\n",
       "      <td>/organization/0ndine-biomedical-inc</td>\n",
       "      <td>Ondine Biomedical Inc.</td>\n",
       "      <td>Biotechnology</td>\n",
       "      <td>operating</td>\n",
       "      <td>CAN</td>\n",
       "      <td>/funding-round/954b9499724b946ad8c396a57a5f3b72</td>\n",
       "      <td>venture</td>\n",
       "      <td>21-12-2009</td>\n",
       "      <td>719491.0</td>\n",
       "      <td>biotechnology</td>\n",
       "      <td>Cleantech / Semiconductors</td>\n",
       "      <td>both</td>\n",
       "    </tr>\n",
       "    <tr>\n",
       "      <th>3</th>\n",
       "      <td>/organization/0xdata</td>\n",
       "      <td>H2O.ai</td>\n",
       "      <td>Analytics</td>\n",
       "      <td>operating</td>\n",
       "      <td>USA</td>\n",
       "      <td>/funding-round/3bb2ee4a2d89251a10aaa735b1180e44</td>\n",
       "      <td>venture</td>\n",
       "      <td>09-11-2015</td>\n",
       "      <td>20000000.0</td>\n",
       "      <td>analytics</td>\n",
       "      <td>Social, Finance, Analytics, Advertising</td>\n",
       "      <td>both</td>\n",
       "    </tr>\n",
       "    <tr>\n",
       "      <th>4</th>\n",
       "      <td>/organization/0xdata</td>\n",
       "      <td>H2O.ai</td>\n",
       "      <td>Analytics</td>\n",
       "      <td>operating</td>\n",
       "      <td>USA</td>\n",
       "      <td>/funding-round/ae2a174c06517c2394aed45006322a7e</td>\n",
       "      <td>venture</td>\n",
       "      <td>03-01-2013</td>\n",
       "      <td>1700000.0</td>\n",
       "      <td>analytics</td>\n",
       "      <td>Social, Finance, Analytics, Advertising</td>\n",
       "      <td>both</td>\n",
       "    </tr>\n",
       "    <tr>\n",
       "      <th>...</th>\n",
       "      <td>...</td>\n",
       "      <td>...</td>\n",
       "      <td>...</td>\n",
       "      <td>...</td>\n",
       "      <td>...</td>\n",
       "      <td>...</td>\n",
       "      <td>...</td>\n",
       "      <td>...</td>\n",
       "      <td>...</td>\n",
       "      <td>...</td>\n",
       "      <td>...</td>\n",
       "      <td>...</td>\n",
       "    </tr>\n",
       "    <tr>\n",
       "      <th>47804</th>\n",
       "      <td>/organization/zyraz-technology</td>\n",
       "      <td>Zyraz Technology</td>\n",
       "      <td>Biotechnology</td>\n",
       "      <td>closed</td>\n",
       "      <td>MYS</td>\n",
       "      <td>/funding-round/e949f077c943db197f20e43c2eb8d0e6</td>\n",
       "      <td>venture</td>\n",
       "      <td>09-10-2009</td>\n",
       "      <td>7991547.0</td>\n",
       "      <td>biotechnology</td>\n",
       "      <td>Cleantech / Semiconductors</td>\n",
       "      <td>both</td>\n",
       "    </tr>\n",
       "    <tr>\n",
       "      <th>47805</th>\n",
       "      <td>/organization/zyrra</td>\n",
       "      <td>Zyrra</td>\n",
       "      <td>E-Commerce</td>\n",
       "      <td>operating</td>\n",
       "      <td>USA</td>\n",
       "      <td>/funding-round/7a0fa791c96c9c447ee54662395beab9</td>\n",
       "      <td>venture</td>\n",
       "      <td>18-10-2012</td>\n",
       "      <td>140500.0</td>\n",
       "      <td>e-commerce</td>\n",
       "      <td>Others</td>\n",
       "      <td>both</td>\n",
       "    </tr>\n",
       "    <tr>\n",
       "      <th>47806</th>\n",
       "      <td>/organization/zystor</td>\n",
       "      <td>Zystor</td>\n",
       "      <td>Biotechnology</td>\n",
       "      <td>acquired</td>\n",
       "      <td>USA</td>\n",
       "      <td>/funding-round/7ea37c0ff4132b084832039a9380d34e</td>\n",
       "      <td>venture</td>\n",
       "      <td>16-12-2004</td>\n",
       "      <td>8500000.0</td>\n",
       "      <td>biotechnology</td>\n",
       "      <td>Cleantech / Semiconductors</td>\n",
       "      <td>both</td>\n",
       "    </tr>\n",
       "    <tr>\n",
       "      <th>47807</th>\n",
       "      <td>/organization/zytoprotec</td>\n",
       "      <td>Zytoprotec</td>\n",
       "      <td>Biotechnology</td>\n",
       "      <td>operating</td>\n",
       "      <td>AUT</td>\n",
       "      <td>/funding-round/0c43e717298296d2fb334fb236300f6e</td>\n",
       "      <td>venture</td>\n",
       "      <td>29-01-2013</td>\n",
       "      <td>2686600.0</td>\n",
       "      <td>biotechnology</td>\n",
       "      <td>Cleantech / Semiconductors</td>\n",
       "      <td>both</td>\n",
       "    </tr>\n",
       "    <tr>\n",
       "      <th>47808</th>\n",
       "      <td>/organization/zznode-science-and-technology-co...</td>\n",
       "      <td>ZZNode Science and Technology</td>\n",
       "      <td>Enterprise Software</td>\n",
       "      <td>operating</td>\n",
       "      <td>CHN</td>\n",
       "      <td>/funding-round/171693e1e07e0230defd8fddb6de4515</td>\n",
       "      <td>venture</td>\n",
       "      <td>01-04-2012</td>\n",
       "      <td>1587301.0</td>\n",
       "      <td>enterprise software</td>\n",
       "      <td>Others</td>\n",
       "      <td>both</td>\n",
       "    </tr>\n",
       "  </tbody>\n",
       "</table>\n",
       "<p>47809 rows × 12 columns</p>\n",
       "</div>"
      ],
      "text/plain": [
       "                                               permalink  \\\n",
       "0                                    /organization/-fame   \n",
       "1                                  /organization/0-6-com   \n",
       "2                    /organization/0ndine-biomedical-inc   \n",
       "3                                   /organization/0xdata   \n",
       "4                                   /organization/0xdata   \n",
       "...                                                  ...   \n",
       "47804                     /organization/zyraz-technology   \n",
       "47805                                /organization/zyrra   \n",
       "47806                               /organization/zystor   \n",
       "47807                           /organization/zytoprotec   \n",
       "47808  /organization/zznode-science-and-technology-co...   \n",
       "\n",
       "                                name        category_list     status  \\\n",
       "0                              #fame                Media  operating   \n",
       "1                            0-6.com          Curated Web  operating   \n",
       "2             Ondine Biomedical Inc.        Biotechnology  operating   \n",
       "3                             H2O.ai            Analytics  operating   \n",
       "4                             H2O.ai            Analytics  operating   \n",
       "...                              ...                  ...        ...   \n",
       "47804               Zyraz Technology        Biotechnology     closed   \n",
       "47805                          Zyrra           E-Commerce  operating   \n",
       "47806                         Zystor        Biotechnology   acquired   \n",
       "47807                     Zytoprotec        Biotechnology  operating   \n",
       "47808  ZZNode Science and Technology  Enterprise Software  operating   \n",
       "\n",
       "      country_code                          funding_round_permalink  \\\n",
       "0              IND  /funding-round/9a01d05418af9f794eebff7ace91f638   \n",
       "1              CHN  /funding-round/5727accaeaa57461bd22a9bdd945382d   \n",
       "2              CAN  /funding-round/954b9499724b946ad8c396a57a5f3b72   \n",
       "3              USA  /funding-round/3bb2ee4a2d89251a10aaa735b1180e44   \n",
       "4              USA  /funding-round/ae2a174c06517c2394aed45006322a7e   \n",
       "...            ...                                              ...   \n",
       "47804          MYS  /funding-round/e949f077c943db197f20e43c2eb8d0e6   \n",
       "47805          USA  /funding-round/7a0fa791c96c9c447ee54662395beab9   \n",
       "47806          USA  /funding-round/7ea37c0ff4132b084832039a9380d34e   \n",
       "47807          AUT  /funding-round/0c43e717298296d2fb334fb236300f6e   \n",
       "47808          CHN  /funding-round/171693e1e07e0230defd8fddb6de4515   \n",
       "\n",
       "      funding_round_type   funded_at  raised_amount_usd       primary_sector  \\\n",
       "0                venture  05-01-2015         10000000.0                media   \n",
       "1                venture  19-03-2008          2000000.0          curated web   \n",
       "2                venture  21-12-2009           719491.0        biotechnology   \n",
       "3                venture  09-11-2015         20000000.0            analytics   \n",
       "4                venture  03-01-2013          1700000.0            analytics   \n",
       "...                  ...         ...                ...                  ...   \n",
       "47804            venture  09-10-2009          7991547.0        biotechnology   \n",
       "47805            venture  18-10-2012           140500.0           e-commerce   \n",
       "47806            venture  16-12-2004          8500000.0        biotechnology   \n",
       "47807            venture  29-01-2013          2686600.0        biotechnology   \n",
       "47808            venture  01-04-2012          1587301.0  enterprise software   \n",
       "\n",
       "                                   main_sector _merge  \n",
       "0                                Entertainment   both  \n",
       "1                   News, Search and Messaging   both  \n",
       "2                   Cleantech / Semiconductors   both  \n",
       "3      Social, Finance, Analytics, Advertising   both  \n",
       "4      Social, Finance, Analytics, Advertising   both  \n",
       "...                                        ...    ...  \n",
       "47804               Cleantech / Semiconductors   both  \n",
       "47805                                   Others   both  \n",
       "47806               Cleantech / Semiconductors   both  \n",
       "47807               Cleantech / Semiconductors   both  \n",
       "47808                                   Others   both  \n",
       "\n",
       "[47809 rows x 12 columns]"
      ]
     },
     "execution_count": 52,
     "metadata": {},
     "output_type": "execute_result"
    }
   ],
   "source": [
    "master_frame=pd.merge(master_frame,mapping_sector,how='left',on='primary_sector',indicator=True)\n",
    "master_frame"
   ]
  },
  {
   "cell_type": "markdown",
   "metadata": {},
   "source": [
    "We have added two new columns in master_frame primary_sector and main_sector"
   ]
  },
  {
   "cell_type": "code",
   "execution_count": 53,
   "metadata": {},
   "outputs": [
    {
     "name": "stdout",
     "output_type": "stream",
     "text": [
      "<class 'pandas.core.frame.DataFrame'>\n",
      "Int64Index: 47809 entries, 0 to 47808\n",
      "Data columns (total 12 columns):\n",
      " #   Column                   Non-Null Count  Dtype   \n",
      "---  ------                   --------------  -----   \n",
      " 0   permalink                47809 non-null  object  \n",
      " 1   name                     47809 non-null  object  \n",
      " 2   category_list            47809 non-null  object  \n",
      " 3   status                   47809 non-null  object  \n",
      " 4   country_code             47809 non-null  object  \n",
      " 5   funding_round_permalink  47809 non-null  object  \n",
      " 6   funding_round_type       47809 non-null  object  \n",
      " 7   funded_at                47809 non-null  object  \n",
      " 8   raised_amount_usd        47809 non-null  float64 \n",
      " 9   primary_sector           47809 non-null  object  \n",
      " 10  main_sector              47789 non-null  object  \n",
      " 11  _merge                   47809 non-null  category\n",
      "dtypes: category(1), float64(1), object(10)\n",
      "memory usage: 4.4+ MB\n"
     ]
    }
   ],
   "source": [
    "master_frame.info()"
   ]
  },
  {
   "cell_type": "code",
   "execution_count": 54,
   "metadata": {},
   "outputs": [
    {
     "name": "stdout",
     "output_type": "stream",
     "text": [
      "<class 'pandas.core.frame.DataFrame'>\n",
      "Int64Index: 38803 entries, 0 to 47806\n",
      "Data columns (total 12 columns):\n",
      " #   Column                   Non-Null Count  Dtype   \n",
      "---  ------                   --------------  -----   \n",
      " 0   permalink                38803 non-null  object  \n",
      " 1   name                     38803 non-null  object  \n",
      " 2   category_list            38803 non-null  object  \n",
      " 3   status                   38803 non-null  object  \n",
      " 4   country_code             38803 non-null  object  \n",
      " 5   funding_round_permalink  38803 non-null  object  \n",
      " 6   funding_round_type       38803 non-null  object  \n",
      " 7   funded_at                38803 non-null  object  \n",
      " 8   raised_amount_usd        38803 non-null  float64 \n",
      " 9   primary_sector           38803 non-null  object  \n",
      " 10  main_sector              38788 non-null  object  \n",
      " 11  _merge                   38803 non-null  category\n",
      "dtypes: category(1), float64(1), object(10)\n",
      "memory usage: 3.6+ MB\n"
     ]
    }
   ],
   "source": [
    "#Now filtering the master_frame with top 3 countire\n",
    "countries=[\"USA\",\"GBR\",\"IND\"]\n",
    "master_frame=master_frame[master_frame[\"country_code\"].isin(countries)]\n",
    "master_frame.info()"
   ]
  },
  {
   "cell_type": "markdown",
   "metadata": {},
   "source": [
    "Spark Funds wants to invest between 5 to 15 million USD per investment round\n"
   ]
  },
  {
   "cell_type": "code",
   "execution_count": 55,
   "metadata": {},
   "outputs": [
    {
     "name": "stdout",
     "output_type": "stream",
     "text": [
      "<class 'pandas.core.frame.DataFrame'>\n",
      "Int64Index: 10788 entries, 0 to 47806\n",
      "Data columns (total 12 columns):\n",
      " #   Column                   Non-Null Count  Dtype   \n",
      "---  ------                   --------------  -----   \n",
      " 0   permalink                10788 non-null  object  \n",
      " 1   name                     10788 non-null  object  \n",
      " 2   category_list            10788 non-null  object  \n",
      " 3   status                   10788 non-null  object  \n",
      " 4   country_code             10788 non-null  object  \n",
      " 5   funding_round_permalink  10788 non-null  object  \n",
      " 6   funding_round_type       10788 non-null  object  \n",
      " 7   funded_at                10788 non-null  object  \n",
      " 8   raised_amount_usd        10788 non-null  float64 \n",
      " 9   primary_sector           10788 non-null  object  \n",
      " 10  main_sector              10787 non-null  object  \n",
      " 11  _merge                   10788 non-null  category\n",
      "dtypes: category(1), float64(1), object(10)\n",
      "memory usage: 1022.0+ KB\n"
     ]
    }
   ],
   "source": [
    "#Filtering the data on above condition\n",
    "master_frame=master_frame[(master_frame[\"raised_amount_usd\"]<15000000) & (master_frame[\"raised_amount_usd\"]>5000000)] \n",
    "master_frame.info()"
   ]
  },
  {
   "cell_type": "markdown",
   "metadata": {},
   "source": [
    "Divide master_frame data frame amoung top3 countries as D1,D2 and D3"
   ]
  },
  {
   "cell_type": "code",
   "execution_count": 56,
   "metadata": {},
   "outputs": [
    {
     "name": "stderr",
     "output_type": "stream",
     "text": [
      "C:\\Users\\pc\\anaconda3\\lib\\site-packages\\ipykernel_launcher.py:4: SettingWithCopyWarning: \n",
      "A value is trying to be set on a copy of a slice from a DataFrame.\n",
      "Try using .loc[row_indexer,col_indexer] = value instead\n",
      "\n",
      "See the caveats in the documentation: https://pandas.pydata.org/pandas-docs/stable/user_guide/indexing.html#returning-a-view-versus-a-copy\n",
      "  after removing the cwd from sys.path.\n",
      "C:\\Users\\pc\\anaconda3\\lib\\site-packages\\ipykernel_launcher.py:5: SettingWithCopyWarning: \n",
      "A value is trying to be set on a copy of a slice from a DataFrame.\n",
      "Try using .loc[row_indexer,col_indexer] = value instead\n",
      "\n",
      "See the caveats in the documentation: https://pandas.pydata.org/pandas-docs/stable/user_guide/indexing.html#returning-a-view-versus-a-copy\n",
      "  \"\"\"\n"
     ]
    }
   ],
   "source": [
    "D1=master_frame[master_frame[\"country_code\"]==\"USA\"]\n",
    "counts=(D1[\"main_sector\"].value_counts()).to_dict()\n",
    "amount=(D1.groupby([\"main_sector\"])[\"raised_amount_usd\"].sum()).to_dict()\n",
    "D1['investment_counts'] = D1['main_sector'].map(counts) \n",
    "D1['total_amount'] = D1['main_sector'].map(amount) "
   ]
  },
  {
   "cell_type": "code",
   "execution_count": 57,
   "metadata": {},
   "outputs": [
    {
     "name": "stderr",
     "output_type": "stream",
     "text": [
      "C:\\Users\\pc\\anaconda3\\lib\\site-packages\\ipykernel_launcher.py:4: SettingWithCopyWarning: \n",
      "A value is trying to be set on a copy of a slice from a DataFrame.\n",
      "Try using .loc[row_indexer,col_indexer] = value instead\n",
      "\n",
      "See the caveats in the documentation: https://pandas.pydata.org/pandas-docs/stable/user_guide/indexing.html#returning-a-view-versus-a-copy\n",
      "  after removing the cwd from sys.path.\n",
      "C:\\Users\\pc\\anaconda3\\lib\\site-packages\\ipykernel_launcher.py:5: SettingWithCopyWarning: \n",
      "A value is trying to be set on a copy of a slice from a DataFrame.\n",
      "Try using .loc[row_indexer,col_indexer] = value instead\n",
      "\n",
      "See the caveats in the documentation: https://pandas.pydata.org/pandas-docs/stable/user_guide/indexing.html#returning-a-view-versus-a-copy\n",
      "  \"\"\"\n"
     ]
    }
   ],
   "source": [
    "D2=master_frame[master_frame[\"country_code\"]==\"GBR\"]\n",
    "counts=(D2[\"main_sector\"].value_counts()).to_dict()\n",
    "amount=(D2.groupby([\"main_sector\"])[\"raised_amount_usd\"].sum()).to_dict()\n",
    "D2['investment_counts'] = D2['main_sector'].map(counts) \n",
    "D2['total_amount'] = D2['main_sector'].map(amount) "
   ]
  },
  {
   "cell_type": "code",
   "execution_count": 58,
   "metadata": {},
   "outputs": [
    {
     "name": "stderr",
     "output_type": "stream",
     "text": [
      "C:\\Users\\pc\\anaconda3\\lib\\site-packages\\ipykernel_launcher.py:4: SettingWithCopyWarning: \n",
      "A value is trying to be set on a copy of a slice from a DataFrame.\n",
      "Try using .loc[row_indexer,col_indexer] = value instead\n",
      "\n",
      "See the caveats in the documentation: https://pandas.pydata.org/pandas-docs/stable/user_guide/indexing.html#returning-a-view-versus-a-copy\n",
      "  after removing the cwd from sys.path.\n",
      "C:\\Users\\pc\\anaconda3\\lib\\site-packages\\ipykernel_launcher.py:5: SettingWithCopyWarning: \n",
      "A value is trying to be set on a copy of a slice from a DataFrame.\n",
      "Try using .loc[row_indexer,col_indexer] = value instead\n",
      "\n",
      "See the caveats in the documentation: https://pandas.pydata.org/pandas-docs/stable/user_guide/indexing.html#returning-a-view-versus-a-copy\n",
      "  \"\"\"\n"
     ]
    }
   ],
   "source": [
    "D3=master_frame[master_frame[\"country_code\"]==\"IND\"]\n",
    "counts=(D3[\"main_sector\"].value_counts()).to_dict()\n",
    "amount=(D3.groupby([\"main_sector\"])[\"raised_amount_usd\"].sum()).to_dict()\n",
    "D3['investment_counts'] = D3['main_sector'].map(counts) \n",
    "D3['total_amount'] = D3['main_sector'].map(amount)"
   ]
  },
  {
   "cell_type": "code",
   "execution_count": 59,
   "metadata": {},
   "outputs": [
    {
     "name": "stdout",
     "output_type": "stream",
     "text": [
      "Total investment count in USA 9983\n",
      "Total investment count in Great Britan 561\n",
      "Total investment count in India 243\n"
     ]
    }
   ],
   "source": [
    "#Total no. of investment count\n",
    "print(\"Total investment count in USA\",D1.investment_counts.count())\n",
    "print(\"Total investment count in Great Britan\",D2.investment_counts.count())\n",
    "print(\"Total investment count in India\",D3.investment_counts.count())"
   ]
  },
  {
   "cell_type": "code",
   "execution_count": 60,
   "metadata": {},
   "outputs": [
    {
     "name": "stdout",
     "output_type": "stream",
     "text": [
      "Total investment amount in USA 157848148108098.0\n",
      "Total investment amount in Great Britan 477968941610.0\n",
      "Total investment amount in India 99848377641.0\n"
     ]
    }
   ],
   "source": [
    "#Total amount if investment\n",
    "print(\"Total investment amount in USA\",D1.total_amount.sum())\n",
    "print(\"Total investment amount in Great Britan\",D2.total_amount.sum())\n",
    "print(\"Total investment amount in India\",D3.total_amount.sum())"
   ]
  },
  {
   "cell_type": "code",
   "execution_count": 61,
   "metadata": {},
   "outputs": [
    {
     "name": "stdout",
     "output_type": "stream",
     "text": [
      "Top 3 investment in USA\n",
      "\n",
      "main_sector\n",
      "Others                                     2423\n",
      "Social, Finance, Analytics, Advertising    2216\n",
      "Cleantech / Semiconductors                 1991\n",
      "Name: investment_counts, dtype: int64\n",
      "\n",
      "Top 3 investment in Great Britain\n",
      "\n",
      "main_sector\n",
      "Others                                     129\n",
      "Cleantech / Semiconductors                 126\n",
      "Social, Finance, Analytics, Advertising    118\n",
      "Name: investment_counts, dtype: int64\n",
      "\n",
      "Top 3 investment in India\n",
      "\n",
      "main_sector\n",
      "Others                                     78\n",
      "Social, Finance, Analytics, Advertising    45\n",
      "News, Search and Messaging                 41\n",
      "Name: investment_counts, dtype: int64\n"
     ]
    }
   ],
   "source": [
    "#Top three (based on count of investments)\n",
    "print(\"Top 3 investment in USA\")\n",
    "print(\"\")\n",
    "print(D1.groupby('main_sector')[\"investment_counts\"].count().sort_values(ascending=False).head(3))\n",
    "print(\"\")\n",
    "print(\"Top 3 investment in Great Britain\")\n",
    "print(\"\")\n",
    "print(D2.groupby('main_sector')[\"investment_counts\"].count().sort_values(ascending=False).head(3))\n",
    "print(\"\")\n",
    "print(\"Top 3 investment in India\")\n",
    "print(\"\")\n",
    "print(D3.groupby('main_sector')[\"investment_counts\"].count().sort_values(ascending=False).head(3))"
   ]
  },
  {
   "cell_type": "code",
   "execution_count": 62,
   "metadata": {},
   "outputs": [
    {
     "data": {
      "text/plain": [
       "39301    SpiderCloud Wireless\n",
       "Name: name, dtype: object"
      ]
     },
     "execution_count": 62,
     "metadata": {},
     "output_type": "execute_result"
    }
   ],
   "source": [
    "# For the top sector count-wise (point 3), which company received the highest investment?\n",
    "D1_new=D1[D1.main_sector==\"Others\"]\n",
    "D1_new[D1_new[\"raised_amount_usd\"]==D1_new[\"raised_amount_usd\"].max()].name"
   ]
  },
  {
   "cell_type": "code",
   "execution_count": 63,
   "metadata": {},
   "outputs": [
    {
     "data": {
      "text/plain": [
       "27405    MyOptique Group\n",
       "Name: name, dtype: object"
      ]
     },
     "execution_count": 63,
     "metadata": {},
     "output_type": "execute_result"
    }
   ],
   "source": [
    "D2_new=D2[D2.main_sector==\"Others\"]\n",
    "D2_new[D2_new[\"raised_amount_usd\"]==D2_new[\"raised_amount_usd\"].max()].name"
   ]
  },
  {
   "cell_type": "code",
   "execution_count": 64,
   "metadata": {},
   "outputs": [
    {
     "data": {
      "text/plain": [
       "14749    EximSoft-Trianz\n",
       "15513       FirstCry.com\n",
       "18848         HomeShop18\n",
       "27386             Myntra\n",
       "Name: name, dtype: object"
      ]
     },
     "execution_count": 64,
     "metadata": {},
     "output_type": "execute_result"
    }
   ],
   "source": [
    "D3_new=D3[D3.main_sector==\"Others\"]\n",
    "D3_new[D3_new[\"raised_amount_usd\"]==D3_new[\"raised_amount_usd\"].max()].name"
   ]
  },
  {
   "cell_type": "code",
   "execution_count": 65,
   "metadata": {},
   "outputs": [
    {
     "data": {
      "text/plain": [
       "15741    Flite\n",
       "Name: name, dtype: object"
      ]
     },
     "execution_count": 65,
     "metadata": {},
     "output_type": "execute_result"
    }
   ],
   "source": [
    "#for the second-best sector count-wise (point 4), which company received the highest investment?\n",
    "D1_new2=D1[D1.main_sector==\"Social, Finance, Analytics, Advertising\"]\n",
    "D1_new2[D1_new2[\"raised_amount_usd\"]==D1_new2[\"raised_amount_usd\"].max()].name"
   ]
  },
  {
   "cell_type": "code",
   "execution_count": 66,
   "metadata": {},
   "outputs": [
    {
     "data": {
      "text/plain": [
       "29893    Onyvax\n",
       "Name: name, dtype: object"
      ]
     },
     "execution_count": 66,
     "metadata": {},
     "output_type": "execute_result"
    }
   ],
   "source": [
    "D2_new2=D2[D2.main_sector==\"Cleantech / Semiconductors\"]\n",
    "D2_new2[D2_new2[\"raised_amount_usd\"]==D2_new2[\"raised_amount_usd\"].max()].name"
   ]
  },
  {
   "cell_type": "code",
   "execution_count": 67,
   "metadata": {},
   "outputs": [
    {
     "data": {
      "text/plain": [
       "20596    inTarvo\n",
       "Name: name, dtype: object"
      ]
     },
     "execution_count": 67,
     "metadata": {},
     "output_type": "execute_result"
    }
   ],
   "source": [
    "D3_new2=D3[D3.main_sector==\"Social, Finance, Analytics, Advertising\"]\n",
    "D3_new2[D3_new2[\"raised_amount_usd\"]==D3_new2[\"raised_amount_usd\"].max()].name"
   ]
  },
  {
   "cell_type": "code",
   "execution_count": 68,
   "metadata": {},
   "outputs": [],
   "source": [
    "#Filtering D1,D2,D3 with  top 3 sectors\n",
    "D1 = D1[D1['main_sector'].isin([\"Others\",\"Social, Finance, Analytics, Advertising\", \"Cleantech / Semiconductors\"])]\n",
    "D2 = D2[D2['main_sector'].isin([\"Others\",\"Cleantech / Semiconductors\",\"Social, Finance, Analytics, Advertising\"])]\n",
    "D3 = D3[D3['main_sector'].isin([\"Others\",\"Social, Finance, Analytics, Advertising\", \"News, Search and Messaging\"])]\n"
   ]
  },
  {
   "cell_type": "code",
   "execution_count": 69,
   "metadata": {},
   "outputs": [
    {
     "data": {
      "image/png": "[encoded data removed]",
      "text/plain": [
       "<Figure size 1440x720 with 1 Axes>"
      ]
     },
     "metadata": {
      "needs_background": "light"
     },
     "output_type": "display_data"
    }
   ],
   "source": [
    "countries= [D1, D2, D3]\n",
    "result = pd.concat(countries)\n",
    "plt.figure(figsize=(20, 10))\n",
    "plot3=sns.barplot(y='country_code', x='raised_amount_usd', hue=\"main_sector\", data=result, estimator=np.sum)\n",
    "plot3.set(xlabel=\"Raised amount (1 Unit=10M USD)\",ylabel=\"Country Name\")\n",
    "plot3.set_title(\"PLot 3 Main  sector Analysin \",fontsize=16)\n",
    "plt.show()"
   ]
  },
  {
   "cell_type": "markdown",
   "metadata": {},
   "source": [
    "### Conclusion\n",
    "Top most commom investment type o invest between 5 to 15 million USD per investment round in is venture\n",
    "Top 3 English speaking countries are USA, Great Britain and India\n",
    "\n",
    "Top 3 investment sectors in USA to invest are:-\n",
    "Others                                     \n",
    "Social, Finance, Analytics, Advertising    \n",
    "Cleantech / Semiconductors                 \n",
    "\n",
    "\n",
    "Top 3 investment sectors in Great Britain are:-\n",
    "\n",
    "Others                                  \n",
    "Cleantech / Semiconductors                 \n",
    "Social, Finance, Analytics, Advertising    \n",
    "\n",
    "Top 3 investment sectors in India are:-\n",
    "\n",
    "Others                                     \n",
    "Social, Finance, Analytics, Advertising    \n",
    "News, Search and Messaging                     \n",
    "\n"
   ]
  }
 ],
 "metadata": {
  "kernelspec": {
   "display_name": "Python 3",
   "language": "python",
   "name": "python3"
  },
  "language_info": {
   "codemirror_mode": {
    "name": "ipython",
    "version": 3
   },
   "file_extension": ".py",
   "mimetype": "text/x-python",
   "name": "python",
   "nbconvert_exporter": "python",
   "pygments_lexer": "ipython3",
   "version": "3.7.6"
  }
 },
 "nbformat": 4,
 "nbformat_minor": 4
}
